{
 "cells": [
  {
   "cell_type": "code",
   "execution_count": null,
   "source": [
    "import pandas as pd\r\n",
    "\r\n",
    "# load the training dataset\r\n",
    "# wget https://raw.githubusercontent.com/MicrosoftDocs/mslearn-introduction-to-machine-learning/main/Data/ml-basics/seeds.csv\r\n",
    "data = pd.read_csv('seeds.csv')\r\n",
    "\r\n",
    "# Display a random sample of 10 observations (just the features)\r\n",
    "features = data[data.columns[0:6]]\r\n",
    "features.sample(10)"
   ],
   "outputs": [],
   "metadata": {}
  },
  {
   "cell_type": "code",
   "execution_count": null,
   "source": [
    "from sklearn.preprocessing import MinMaxScaler\r\n",
    "from sklearn.decomposition import PCA\r\n",
    "\r\n",
    "# Normalize the numeric features so they're on the same scale\r\n",
    "scaled_features = MinMaxScaler().fit_transform(features[data.columns[0:6]])\r\n",
    "\r\n",
    "# Get two principal components\r\n",
    "pca = PCA(n_components=2).fit(scaled_features)\r\n",
    "features_2d = pca.transform(scaled_features)\r\n",
    "features_2d[0:10]"
   ],
   "outputs": [],
   "metadata": {}
  },
  {
   "cell_type": "code",
   "execution_count": null,
   "source": [
    "import matplotlib.pyplot as plt\r\n",
    "\r\n",
    "%matplotlib inline\r\n",
    "\r\n",
    "plt.scatter(features_2d[:,0],features_2d[:,1])\r\n",
    "plt.xlabel('Dimension 1')\r\n",
    "plt.ylabel('Dimension 2')\r\n",
    "plt.title('Data')\r\n",
    "plt.show()"
   ],
   "outputs": [],
   "metadata": {}
  },
  {
   "cell_type": "code",
   "execution_count": null,
   "source": [
    "#importing the libraries\r\n",
    "import numpy as np\r\n",
    "import matplotlib.pyplot as plt\r\n",
    "from sklearn.cluster import KMeans\r\n",
    "%matplotlib inline\r\n",
    "\r\n",
    "# Create 10 models with 1 to 10 clusters\r\n",
    "wcss = []\r\n",
    "for i in range(1, 11):\r\n",
    "    kmeans = KMeans(n_clusters = i)\r\n",
    "    # Fit the data points\r\n",
    "    kmeans.fit(features.values)\r\n",
    "    # Get the WCSS (inertia) value\r\n",
    "    wcss.append(kmeans.inertia_)\r\n",
    "    \r\n",
    "#Plot the WCSS values onto a line graph\r\n",
    "plt.plot(range(1, 11), wcss)\r\n",
    "plt.title('WCSS by Clusters')\r\n",
    "plt.xlabel('Number of clusters')\r\n",
    "plt.ylabel('WCSS')\r\n",
    "plt.show()"
   ],
   "outputs": [],
   "metadata": {}
  }
 ],
 "metadata": {
  "orig_nbformat": 4,
  "language_info": {
   "name": "python",
   "version": "3.8.3",
   "mimetype": "text/x-python",
   "codemirror_mode": {
    "name": "ipython",
    "version": 3
   },
   "pygments_lexer": "ipython3",
   "nbconvert_exporter": "python",
   "file_extension": ".py"
  },
  "kernelspec": {
   "name": "python3",
   "display_name": "Python 3.8.3 32-bit"
  },
  "interpreter": {
   "hash": "586dbcb5c5852d95733b4f6988d368a04938dc62b7d3e4b2ef6fb3176efba2da"
  }
 },
 "nbformat": 4,
 "nbformat_minor": 2
}