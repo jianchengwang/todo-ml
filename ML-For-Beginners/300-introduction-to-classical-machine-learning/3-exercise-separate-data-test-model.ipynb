{
 "cells": [
  {
   "cell_type": "code",
   "execution_count": null,
   "metadata": {},
   "outputs": [],
   "source": [
    "import pandas\r\n",
    "# https://raw.githubusercontent.com/MicrosoftDocs/mslearn-introduction-to-machine-learning/main/graphing.py\r\n",
    "# https://raw.githubusercontent.com/MicrosoftDocs/mslearn-introduction-to-machine-learning/main/m0b_optimizer.py\r\n",
    "# https://raw.githubusercontent.com/MicrosoftDocs/mslearn-introduction-to-machine-learning/main/Data/seattleWeather_1948-2017.csv\r\n",
    "\r\n",
    "# Load a file containing weather data for seattle\r\n",
    "data = pandas.read_csv('seattleWeather_1948-2017.csv', parse_dates=['date'])\r\n",
    "\r\n",
    "# Keep only January temperatures\r\n",
    "data = data[[d.month == 1 for d in data.date]].copy()\r\n",
    "\r\n",
    "\r\n",
    "# Print the first and last few rows\r\n",
    "# Remember that with Jupyter notebooks the last line of \r\n",
    "# code is automatically printed\r\n",
    "data"
   ]
  },
  {
   "cell_type": "code",
   "execution_count": null,
   "metadata": {},
   "outputs": [],
   "source": [
    "import graphing # custom graphing code. See our GitHub repository for details\r\n",
    "\r\n",
    "# Let's take a quick look at our data\r\n",
    "graphing.scatter_2D(data, label_x=\"date\", label_y=\"min_temperature\", title=\"January Temperatures (°F)\")"
   ]
  },
  {
   "cell_type": "code",
   "execution_count": null,
   "metadata": {},
   "outputs": [],
   "source": [
    "import numpy as np\r\n",
    "\r\n",
    "# This block of code scales and offsets the data slightly, which helps the training process\r\n",
    "# You do not need to understand this code. we'll cover these concepts in later learning material\r\n",
    "\r\n",
    "# Offset date into number of years since 1982\r\n",
    "data[\"years_since_1982\"] = [(d.year + d.timetuple().tm_yday / 365.25) - 1982 for d in data.date]\r\n",
    "\r\n",
    "# Scale and offset temperature so that it has a smaller range of values\r\n",
    "data[\"normalised_temperature\"] = (data[\"min_temperature\"] - np.mean(data[\"min_temperature\"])) / np.std(data[\"min_temperature\"])\r\n",
    "\r\n",
    "# Graph\r\n",
    "graphing.scatter_2D(data, label_x=\"years_since_1982\", label_y=\"normalised_temperature\", title=\"January Temperatures (Normalised)\")\r\n"
   ]
  },
  {
   "cell_type": "code",
   "execution_count": null,
   "metadata": {},
   "outputs": [],
   "source": [
    "class MyModel:\r\n",
    "\r\n",
    "    def __init__(self):\r\n",
    "        '''\r\n",
    "        Creates a new MyModel\r\n",
    "        '''\r\n",
    "        # Straight lines described by two parameters:\r\n",
    "        # The slop is the angle of the line\r\n",
    "        self.slope = 0\r\n",
    "        # The intercept moves the line up or down\r\n",
    "        self.intercept = 0\r\n",
    "\r\n",
    "    def predict(self, date):\r\n",
    "        '''\r\n",
    "        Estimates the temperature from the date\r\n",
    "        '''\r\n",
    "        return date * self.slope + self.intercept\r\n",
    "\r\n",
    "# Create our model ready to be trained\r\n",
    "model = MyModel()\r\n",
    "\r\n",
    "print(\"Model made!\")"
   ]
  },
  {
   "cell_type": "code",
   "execution_count": null,
   "metadata": {},
   "outputs": [],
   "source": [
    "print(f\"Model parameters before training: {model.intercept}, {model.slope}\")\r\n",
    "\r\n",
    "# Look at how well the model does before training\r\n",
    "print(\"Model visualised before training:\")\r\n",
    "graphing.scatter_2D(data, \"years_since_1982\", \"normalised_temperature\", trendline=model.predict)   "
   ]
  },
  {
   "cell_type": "code",
   "execution_count": 7,
   "metadata": {},
   "outputs": [],
   "source": [
    "def cost_function(actual_temperatures, estimated_temperatures):\r\n",
    "    '''\r\n",
    "    Calculates the difference between actual and estimated temperatures\r\n",
    "    Returns the difference, and also returns the squared difference (the cost)\r\n",
    "\r\n",
    "    actual_temperatures: One or more temperatures recorded in the past\r\n",
    "    estimated_temperatures: Corresponding temperature(s) estimated by the model\r\n",
    "    '''\r\n",
    "\r\n",
    "    # Calculate the difference between actual temperatures and those\r\n",
    "    # estimated by the model\r\n",
    "    difference = estimated_temperatures - actual_temperatures\r\n",
    "\r\n",
    "    # Convert to a single number that tells us how well the model did\r\n",
    "    # (smaller numbers are better)\r\n",
    "    cost = sum(difference ** 2)\r\n",
    "\r\n",
    "    return difference, cost"
   ]
  },
  {
   "cell_type": "code",
   "execution_count": 8,
   "metadata": {},
   "outputs": [],
   "source": [
    "from m0b_optimizer import MyOptimizer\r\n",
    "\r\n",
    "# Create an optimizer\r\n",
    "optimizer = MyOptimizer()"
   ]
  },
  {
   "cell_type": "code",
   "execution_count": null,
   "metadata": {},
   "outputs": [],
   "source": [
    "def train_one_iteration(model_inputs, true_temperatures, last_cost:float):\r\n",
    "    '''\r\n",
    "    Runs a single iteration of training.\r\n",
    "\r\n",
    "\r\n",
    "    model_inputs: One or more dates to provide the model (dates)\r\n",
    "    true_temperatues: Corresponding temperatures known to occur on from those dates\r\n",
    "\r\n",
    "    Returns:\r\n",
    "        A boolean, as to whether training should continue\r\n",
    "        The cost calculated (small numbers are better)\r\n",
    "    '''\r\n",
    "\r\n",
    "    # === USE THE MODEL ===\r\n",
    "    # Estimate temperatures for all data that we have\r\n",
    "    estimated_temperatures = model.predict(model_inputs)\r\n",
    "\r\n",
    "    # === OBJECTIVE FUNCTION ===\r\n",
    "    # Calculate how well the model is working\r\n",
    "    # Smaller numbers are better \r\n",
    "    difference, cost = cost_function(true_temperatures, estimated_temperatures)\r\n",
    "\r\n",
    "    # Decide whether to keep training\r\n",
    "    # we'll stop if the training is no longer improving the model effectively\r\n",
    "    if cost >= last_cost:\r\n",
    "        # Abort training\r\n",
    "        return False, cost\r\n",
    "    else:\r\n",
    "        # === OPTIMIZER ===\r\n",
    "        # Calculate updates to parameters\r\n",
    "        intercept_update, slope_update = optimizer.get_parameter_updates(model_inputs, cost, difference)\r\n",
    "\r\n",
    "        # Change the model parameters\r\n",
    "        model.slope += slope_update\r\n",
    "        model.intercept += intercept_update\r\n",
    "\r\n",
    "        return True, cost\r\n",
    "\r\n",
    "print(\"Training method ready\")"
   ]
  },
  {
   "cell_type": "code",
   "execution_count": null,
   "metadata": {},
   "outputs": [],
   "source": [
    "import math\r\n",
    "\r\n",
    "print(f\"Model parameters before training:\\t\\t{model.intercept:.8f},\\t{model.slope:.8f}\")\r\n",
    "\r\n",
    "continue_loop, cost = train_one_iteration(model_inputs = data[\"years_since_1982\"],\r\n",
    "                                                    true_temperatures = data[\"normalised_temperature\"],\r\n",
    "                                                    last_cost = math.inf)\r\n",
    "\r\n",
    "print(f\"Model parameters after 1 iteration of training:\\t{model.intercept:.8f},\\t{model.slope:.8f}\")\r\n"
   ]
  },
  {
   "cell_type": "code",
   "execution_count": null,
   "metadata": {},
   "outputs": [],
   "source": [
    "# start the loop\r\n",
    "print(\"Training beginning...\")\r\n",
    "last_cost = math.inf\r\n",
    "i = 0\r\n",
    "continue_loop = True\r\n",
    "while continue_loop:\r\n",
    "\r\n",
    "    # Run one iteration of training\r\n",
    "    # This will tell us whether to stop training, and also what\r\n",
    "    # the cost was for this iteration\r\n",
    "    continue_loop, last_cost = train_one_iteration(model_inputs = data[\"years_since_1982\"],\r\n",
    "                                                    true_temperatures = data[\"normalised_temperature\"],\r\n",
    "                                                    last_cost = last_cost)\r\n",
    "   \r\n",
    "    # Print the status\r\n",
    "    if i % 400 == 0:\r\n",
    "        print(\"Iteration:\", i)\r\n",
    "\r\n",
    "    i += 1\r\n",
    "\r\n",
    "    \r\n",
    "print(\"Training complete!\")\r\n",
    "print(f\"Model parameters after training:\\t{model.intercept:.8f},\\t{model.slope:.8f}\")\r\n",
    "graphing.scatter_2D(data, \"years_since_1982\", \"normalised_temperature\", trendline=model.predict)    "
   ]
  },
  {
   "cell_type": "code",
   "execution_count": null,
   "metadata": {},
   "outputs": [],
   "source": []
  }
 ],
 "metadata": {
  "kernelspec": {
   "display_name": "Python 3.9.5 64-bit",
   "name": "python395jvsc74a57bd0b62550ee9875c103988241e840a33346a8e052936219caf3064f7a25db6fe747"
  },
  "language_info": {
   "codemirror_mode": {
    "name": "ipython",
    "version": 3
   },
   "file_extension": ".py",
   "mimetype": "text/x-python",
   "name": "python",
   "nbconvert_exporter": "python",
   "pygments_lexer": "ipython3",
   "version": "3.9.5"
  },
  "orig_nbformat": 2
 },
 "nbformat": 4,
 "nbformat_minor": 2
}