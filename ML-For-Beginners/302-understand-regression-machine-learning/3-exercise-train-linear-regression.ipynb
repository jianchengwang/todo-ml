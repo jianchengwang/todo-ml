{
 "cells": [
  {
   "cell_type": "code",
   "execution_count": null,
   "metadata": {},
   "outputs": [],
   "source": [
    "import pandas\r\n",
    "# pip install statsmodels\r\n",
    "# wget https://raw.githubusercontent.com/MicrosoftDocs/mslearn-introduction-to-machine-learning/main/graphing.py\r\n",
    "# wget https://raw.githubusercontent.com/MicrosoftDocs/mslearn-introduction-to-machine-learning/main/Data/doggy-illness.csv\r\n",
    "\r\n",
    "# Convert it into a table using pandas\r\n",
    "dataset = pandas.read_csv(\"doggy-illness.csv\", delimiter=\"\\t\")\r\n",
    "\r\n",
    "# Print the data\r\n",
    "print(dataset)"
   ]
  },
  {
   "cell_type": "code",
   "execution_count": null,
   "metadata": {},
   "outputs": [],
   "source": [
    "import graphing\r\n",
    "\r\n",
    "graphing.histogram(dataset, label_x='age', nbins=10, title=\"Feature\", show=True)\r\n",
    "graphing.histogram(dataset, label_x='core_temperature', nbins=10, title=\"Label\")"
   ]
  },
  {
   "cell_type": "code",
   "execution_count": null,
   "metadata": {},
   "outputs": [],
   "source": [
    "graphing.scatter_2D(dataset, label_x=\"age\", label_y=\"core_temperature\", title='core temperature as a function of age')"
   ]
  },
  {
   "cell_type": "code",
   "execution_count": null,
   "metadata": {},
   "outputs": [],
   "source": [
    "import statsmodels.formula.api as smf\r\n",
    "import graphing # custom graphing code. See our GitHub repo for details\r\n",
    "\r\n",
    "# First, we define our formula using a special syntax\r\n",
    "# This says that core temperature is explained by age\r\n",
    "formula = \"core_temperature ~ age\"\r\n",
    "\r\n",
    "# Perform linear regression. This method takes care of\r\n",
    "# the entire fitting procedure for us.\r\n",
    "model = smf.ols(formula = formula, data = dataset).fit()\r\n",
    "\r\n",
    "# Show a graph of the result\r\n",
    "graphing.scatter_2D(dataset,    label_x=\"age\", \r\n",
    "                                label_y=\"core_temperature\",\r\n",
    "                                trendline=lambda x: model.params[1] * x + model.params[0]\r\n",
    "                                )"
   ]
  },
  {
   "cell_type": "code",
   "execution_count": null,
   "metadata": {},
   "outputs": [],
   "source": [
    "print(\"Intercept:\", model.params[0], \"Slope:\", model.params[1])"
   ]
  },
  {
   "cell_type": "code",
   "execution_count": null,
   "metadata": {},
   "outputs": [],
   "source": [
    "def estimate_temperature(age):\r\n",
    "    # Model param[0] is the intercepts and param[1] is the slope\r\n",
    "    return age * model.params[1] + model.params[0]\r\n",
    "\r\n",
    "print(\"Estimate temperature from age\")\r\n",
    "print(estimate_temperature(age=0))"
   ]
  }
 ],
 "metadata": {
  "kernelspec": {
   "display_name": "Python 3.9.5 64-bit",
   "name": "python395jvsc74a57bd0b62550ee9875c103988241e840a33346a8e052936219caf3064f7a25db6fe747"
  },
  "language_info": {
   "codemirror_mode": {
    "name": "ipython",
    "version": 3
   },
   "file_extension": ".py",
   "mimetype": "text/x-python",
   "name": "python",
   "nbconvert_exporter": "python",
   "pygments_lexer": "ipython3",
   "version": "3.9.5"
  },
  "orig_nbformat": 2
 },
 "nbformat": 4,
 "nbformat_minor": 2
}