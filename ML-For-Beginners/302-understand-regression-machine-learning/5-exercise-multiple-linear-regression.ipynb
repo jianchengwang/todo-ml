{
 "cells": [
  {
   "cell_type": "code",
   "execution_count": null,
   "metadata": {},
   "outputs": [],
   "source": [
    "import pandas\r\n",
    "#pip install statsmodels\r\n",
    "#wget https://raw.githubusercontent.com/MicrosoftDocs/mslearn-introduction-to-machine-learning/main/graphing.py\r\n",
    "#wget https://raw.githubusercontent.com/MicrosoftDocs/mslearn-introduction-to-machine-learning/main/Data/doggy-illness.csv\r\n",
    "\r\n",
    "#Import the data from the .csv file\r\n",
    "dataset = pandas.read_csv('doggy-illness.csv', delimiter=\"\\t\")\r\n",
    "\r\n",
    "#Let's have a look at the data\r\n",
    "dataset"
   ]
  },
  {
   "cell_type": "code",
   "execution_count": null,
   "metadata": {},
   "outputs": [],
   "source": [
    "import graphing # Custom graphing code that uses Plotly. See our GitHub repository for details\r\n",
    "\r\n",
    "graphing.box_and_whisker(dataset, \"male\", \"core_temperature\", show=True)\r\n",
    "graphing.box_and_whisker(dataset, \"attended_training\", \"core_temperature\", show=True)\r\n",
    "graphing.box_and_whisker(dataset, \"ate_at_tonys_steakhouse\", \"core_temperature\", show=True)\r\n",
    "graphing.scatter_2D(dataset, \"body_fat_percentage\", \"core_temperature\", show=True)\r\n",
    "graphing.scatter_2D(dataset, \"protein_content_of_last_meal\", \"core_temperature\", show=True)\r\n",
    "graphing.scatter_2D(dataset, \"age\", \"core_temperature\")"
   ]
  },
  {
   "cell_type": "code",
   "execution_count": null,
   "metadata": {},
   "outputs": [],
   "source": [
    "import statsmodels.formula.api as smf\r\n",
    "import graphing # custom graphing code. See our GitHub repo for details\r\n",
    "\r\n",
    "for feature in [\"male\", \"age\", \"protein_content_of_last_meal\", \"body_fat_percentage\"]:\r\n",
    "    # Perform linear regression. This method takes care of\r\n",
    "    # the entire fitting procedure for us.\r\n",
    "    formula = \"core_temperature ~ \" + feature\r\n",
    "    simple_model = smf.ols(formula = formula, data = dataset).fit()\r\n",
    "\r\n",
    "    print(feature)\r\n",
    "    print(\"R-squared:\", simple_model.rsquared)\r\n",
    "    \r\n",
    "    # Show a graph of the result\r\n",
    "    graphing.scatter_2D(dataset, label_x=feature, \r\n",
    "                                 label_y=\"core_temperature\",\r\n",
    "                                 title = feature,\r\n",
    "                                 trendline=lambda x: simple_model.params[1] * x + simple_model.params[0],\r\n",
    "                                 show=True)"
   ]
  },
  {
   "cell_type": "code",
   "execution_count": null,
   "metadata": {},
   "outputs": [],
   "source": [
    "model = smf.ols(formula = \"core_temperature ~ age + male\", data = dataset).fit()\r\n",
    "\r\n",
    "print(\"R-squared:\", model.rsquared)"
   ]
  },
  {
   "cell_type": "code",
   "execution_count": null,
   "metadata": {},
   "outputs": [],
   "source": [
    "import numpy as np\r\n",
    "# Show a graph of the result\r\n",
    "# this needs to be 3D, because we now have three variables in play: two features and one label\r\n",
    "\r\n",
    "def predict(age, male):\r\n",
    "    '''\r\n",
    "    This converts given age and male values into a prediction from the model\r\n",
    "    '''\r\n",
    "    # to make a prediction with statsmodels, we need to provide a dataframe\r\n",
    "    # so create a dataframe with just the age and male variables\r\n",
    "    df = pandas.DataFrame(dict(age=[age], male=[male]))\r\n",
    "    return model.predict(df)\r\n",
    "\r\n",
    "# Create the surface graph\r\n",
    "fig = graphing.surface(\r\n",
    "    x_values=np.array([min(dataset.age), max(dataset.age)]),\r\n",
    "    y_values=np.array([0, 1]),\r\n",
    "    calc_z=predict,\r\n",
    "    axis_title_x=\"Age\",\r\n",
    "    axis_title_y=\"Male\",\r\n",
    "    axis_title_z=\"Core temperature\"\r\n",
    ")\r\n",
    "\r\n",
    "# Add our datapoints to it and display\r\n",
    "fig.add_scatter3d(x=dataset.age, y=dataset.male, z=dataset.core_temperature, mode='markers')\r\n",
    "fig.show()"
   ]
  },
  {
   "cell_type": "code",
   "execution_count": null,
   "metadata": {},
   "outputs": [],
   "source": [
    "# Print summary information\r\n",
    "model.summary()"
   ]
  },
  {
   "cell_type": "code",
   "execution_count": null,
   "metadata": {},
   "outputs": [],
   "source": [
    "simple_model.summary()"
   ]
  }
 ],
 "metadata": {
  "kernelspec": {
   "display_name": "Python 3.9.5 64-bit",
   "name": "python395jvsc74a57bd0b62550ee9875c103988241e840a33346a8e052936219caf3064f7a25db6fe747"
  },
  "language_info": {
   "codemirror_mode": {
    "name": "ipython",
    "version": 3
   },
   "file_extension": ".py",
   "mimetype": "text/x-python",
   "name": "python",
   "nbconvert_exporter": "python",
   "pygments_lexer": "ipython3",
   "version": "3.9.5"
  },
  "orig_nbformat": 2
 },
 "nbformat": 4,
 "nbformat_minor": 2
}