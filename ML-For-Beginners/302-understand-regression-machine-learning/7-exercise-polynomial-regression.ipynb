{
 "cells": [
  {
   "cell_type": "code",
   "execution_count": null,
   "metadata": {},
   "outputs": [],
   "source": [
    "import pandas\r\n",
    "#pip install statsmodels\r\n",
    "#wget https://raw.githubusercontent.com/MicrosoftDocs/mslearn-introduction-to-machine-learning/main/graphing.py\r\n",
    "#wget https://raw.githubusercontent.com/MicrosoftDocs/mslearn-introduction-to-machine-learning/main/Data/doggy-illness.csv\r\n",
    "\r\n",
    "#Import the data from the .csv file\r\n",
    "dataset = pandas.read_csv('doggy-illness.csv', delimiter=\"\\t\")\r\n",
    "\r\n",
    "#Let's have a look at the data\r\n",
    "dataset"
   ]
  },
  {
   "cell_type": "code",
   "execution_count": null,
   "metadata": {},
   "outputs": [],
   "source": [
    "import statsmodels.formula.api as smf\r\n",
    "import graphing # custom graphing code. See our GitHub repo for details\r\n",
    "\r\n",
    "# Perform linear regression. This method takes care of\r\n",
    "# the entire fitting procedure for us.\r\n",
    "simple_formula = \"core_temperature ~ protein_content_of_last_meal\"\r\n",
    "simple_model = smf.ols(formula = simple_formula, data = dataset).fit()\r\n",
    "\r\n",
    "# Show a graph of the result\r\n",
    "graphing.scatter_2D(dataset, label_x=\"protein_content_of_last_meal\", \r\n",
    "                             label_y=\"core_temperature\",\r\n",
    "                             trendline=lambda x: simple_model.params[1] * x + simple_model.params[0])\r\n"
   ]
  },
  {
   "cell_type": "code",
   "execution_count": null,
   "metadata": {},
   "outputs": [],
   "source": [
    "print(\"R-squared:\", simple_model.rsquared)"
   ]
  },
  {
   "cell_type": "code",
   "execution_count": null,
   "metadata": {},
   "outputs": [],
   "source": [
    "# Perform polynomial regression. This method takes care of\r\n",
    "# the entire fitting procedure for us.\r\n",
    "polynomial_formula = \"core_temperature ~ protein_content_of_last_meal + I(protein_content_of_last_meal**2)\"\r\n",
    "polynomial_model = smf.ols(formula = polynomial_formula, data = dataset).fit()\r\n",
    "\r\n",
    "# Show a graph of the result\r\n",
    "graphing.scatter_2D(dataset, label_x=\"protein_content_of_last_meal\", \r\n",
    "                             label_y=\"core_temperature\",\r\n",
    "                             # Our trendline is the equation for the polynomial\r\n",
    "                             trendline=lambda x: polynomial_model.params[2] * x**2 + polynomial_model.params[1] * x + polynomial_model.params[0])\r\n"
   ]
  },
  {
   "cell_type": "code",
   "execution_count": null,
   "metadata": {},
   "outputs": [],
   "source": [
    "print(\"R-squared:\", polynomial_model.rsquared)"
   ]
  },
  {
   "cell_type": "code",
   "execution_count": null,
   "metadata": {},
   "outputs": [],
   "source": [
    "# Show an extrapolated graph of the linear model\r\n",
    "graphing.scatter_2D(dataset, label_x=\"protein_content_of_last_meal\", \r\n",
    "                             label_y=\"core_temperature\",\r\n",
    "                             # We extrapolate over the following range\r\n",
    "                             x_range = [0,100],\r\n",
    "                             trendline=lambda x: simple_model.params[1] * x + simple_model.params[0])\r\n"
   ]
  },
  {
   "cell_type": "code",
   "execution_count": null,
   "metadata": {},
   "outputs": [],
   "source": [
    "# Show an extrapolated graph of the polynomial model\r\n",
    "graphing.scatter_2D(dataset, label_x=\"protein_content_of_last_meal\", \r\n",
    "                             label_y=\"core_temperature\",\r\n",
    "                             # We extrapolate over the following range\r\n",
    "                             x_range = [0,100],\r\n",
    "                             trendline=lambda x: polynomial_model.params[2] * x**2 + polynomial_model.params[1] * x + polynomial_model.params[0])\r\n"
   ]
  }
 ],
 "metadata": {
  "kernelspec": {
   "display_name": "Python 3.9.5 64-bit",
   "name": "python395jvsc74a57bd0b62550ee9875c103988241e840a33346a8e052936219caf3064f7a25db6fe747"
  },
  "language_info": {
   "codemirror_mode": {
    "name": "ipython",
    "version": 3
   },
   "file_extension": ".py",
   "mimetype": "text/x-python",
   "name": "python",
   "nbconvert_exporter": "python",
   "pygments_lexer": "ipython3",
   "version": "3.9.5"
  },
  "orig_nbformat": 2
 },
 "nbformat": 4,
 "nbformat_minor": 2
}