{
 "cells": [
  {
   "cell_type": "code",
   "execution_count": 1,
   "metadata": {},
   "outputs": [
    {
     "data": {
      "text/html": "<div>\n<style scoped>\n    .dataframe tbody tr th:only-of-type {\n        vertical-align: middle;\n    }\n\n    .dataframe tbody tr th {\n        vertical-align: top;\n    }\n\n    .dataframe thead th {\n        text-align: right;\n    }\n</style>\n<table border=\"1\" class=\"dataframe\">\n  <thead>\n    <tr style=\"text-align: right;\">\n      <th></th>\n      <th>PassengerId</th>\n      <th>Survived</th>\n      <th>Pclass</th>\n      <th>Name</th>\n      <th>Sex</th>\n      <th>Age</th>\n      <th>SibSp</th>\n      <th>Parch</th>\n      <th>Ticket</th>\n      <th>Fare</th>\n      <th>Cabin</th>\n      <th>Embarked</th>\n    </tr>\n  </thead>\n  <tbody>\n    <tr>\n      <th>0</th>\n      <td>1</td>\n      <td>0</td>\n      <td>3</td>\n      <td>Braund, Mr. Owen Harris</td>\n      <td>male</td>\n      <td>22.0</td>\n      <td>1</td>\n      <td>0</td>\n      <td>A/5 21171</td>\n      <td>7.2500</td>\n      <td>NaN</td>\n      <td>S</td>\n    </tr>\n    <tr>\n      <th>1</th>\n      <td>2</td>\n      <td>1</td>\n      <td>1</td>\n      <td>Cumings, Mrs. John Bradley (Florence Briggs Th...</td>\n      <td>female</td>\n      <td>38.0</td>\n      <td>1</td>\n      <td>0</td>\n      <td>PC 17599</td>\n      <td>71.2833</td>\n      <td>C85</td>\n      <td>C</td>\n    </tr>\n    <tr>\n      <th>2</th>\n      <td>3</td>\n      <td>1</td>\n      <td>3</td>\n      <td>Heikkinen, Miss. Laina</td>\n      <td>female</td>\n      <td>26.0</td>\n      <td>0</td>\n      <td>0</td>\n      <td>STON/O2. 3101282</td>\n      <td>7.9250</td>\n      <td>NaN</td>\n      <td>S</td>\n    </tr>\n    <tr>\n      <th>3</th>\n      <td>4</td>\n      <td>1</td>\n      <td>1</td>\n      <td>Futrelle, Mrs. Jacques Heath (Lily May Peel)</td>\n      <td>female</td>\n      <td>35.0</td>\n      <td>1</td>\n      <td>0</td>\n      <td>113803</td>\n      <td>53.1000</td>\n      <td>C123</td>\n      <td>S</td>\n    </tr>\n    <tr>\n      <th>4</th>\n      <td>5</td>\n      <td>0</td>\n      <td>3</td>\n      <td>Allen, Mr. William Henry</td>\n      <td>male</td>\n      <td>35.0</td>\n      <td>0</td>\n      <td>0</td>\n      <td>373450</td>\n      <td>8.0500</td>\n      <td>NaN</td>\n      <td>S</td>\n    </tr>\n  </tbody>\n</table>\n</div>",
      "text/plain": "   PassengerId  Survived  Pclass  \\\n0            1         0       3   \n1            2         1       1   \n2            3         1       3   \n3            4         1       1   \n4            5         0       3   \n\n                                                Name     Sex   Age  SibSp  \\\n0                            Braund, Mr. Owen Harris    male  22.0      1   \n1  Cumings, Mrs. John Bradley (Florence Briggs Th...  female  38.0      1   \n2                             Heikkinen, Miss. Laina  female  26.0      0   \n3       Futrelle, Mrs. Jacques Heath (Lily May Peel)  female  35.0      1   \n4                           Allen, Mr. William Henry    male  35.0      0   \n\n   Parch            Ticket     Fare Cabin Embarked  \n0      0         A/5 21171   7.2500   NaN        S  \n1      0          PC 17599  71.2833   C85        C  \n2      0  STON/O2. 3101282   7.9250   NaN        S  \n3      0            113803  53.1000  C123        S  \n4      0            373450   8.0500   NaN        S  "
     },
     "execution_count": 1,
     "metadata": {},
     "output_type": "execute_result"
    }
   ],
   "source": [
    "import pandas as pd\r\n",
    "# pip install missingno\r\n",
    "\r\n",
    "# Load data from our dataset file into a pandas dataframe\r\n",
    "# wget https://raw.githubusercontent.com/MicrosoftDocs/mslearn-introduction-to-machine-learning/main/Data/titanic.csv\r\n",
    "# wget https://raw.githubusercontent.com/MicrosoftDocs/mslearn-introduction-to-machine-learning/main/graphing.py\r\n",
    "dataset = pd.read_csv('titanic.csv', index_col=False, sep=\",\", header=0)\r\n",
    "\r\n",
    "# Let's take a look at the data\r\n",
    "dataset.head()"
   ]
  },
  {
   "cell_type": "code",
   "execution_count": null,
   "metadata": {},
   "outputs": [],
   "source": [
    "# Shape tells us how many rows and columns we have\r\n",
    "print(dataset.shape)"
   ]
  },
  {
   "cell_type": "code",
   "execution_count": null,
   "metadata": {},
   "outputs": [],
   "source": [
    "# Calculate the number of empty cells in each column\r\n",
    "# The following line consists of three commands. Try\r\n",
    "# to think about how they work together to calculate\r\n",
    "# the number of missing entries per column\r\n",
    "missing_data = dataset.isnull().sum().to_frame()\r\n",
    "\r\n",
    "# Rename column holding the sums\r\n",
    "missing_data = missing_data.rename(columns={0:'Empty Cells'})\r\n",
    "\r\n",
    "# Print the results\r\n",
    "print(missing_data)"
   ]
  },
  {
   "cell_type": "code",
   "execution_count": null,
   "metadata": {},
   "outputs": [],
   "source": [
    "# import missingno package\r\n",
    "import missingno as msno\r\n",
    "\r\n",
    "# Plot a matrix chart, set chart and font size\r\n",
    "msno.matrix(dataset, figsize=(10,5), fontsize=11)"
   ]
  },
  {
   "cell_type": "code",
   "execution_count": null,
   "metadata": {},
   "outputs": [],
   "source": [
    "# Select Passengers with unknown age\r\n",
    "# Notice how we use .isnull() rows with no value\r\n",
    "unknown_age = dataset[dataset[\"Age\"].isnull()]\r\n",
    "\r\n",
    "# Print only the colums we want for the moment (to better fit the screen)\r\n",
    "# limit output to 20 rows\r\n",
    "unknown_age[[\"PassengerId\",\"Name\", \"Survived\", \"Age\"]][:20]"
   ]
  },
  {
   "cell_type": "code",
   "execution_count": null,
   "metadata": {},
   "outputs": [],
   "source": [
    "# Find those missing age or cabin information\r\n",
    "missing_age = dataset[\"Age\"].isnull()\r\n",
    "missing_cabin = dataset[\"Cabin\"].isnull()\r\n",
    "\r\n",
    "# Find those missing both\r\n",
    "unknown_age_and_cabin = dataset[missing_age & missing_cabin]\r\n",
    "print(\"Number of passengers missing age and cabin information:\", len(unknown_age_and_cabin))"
   ]
  },
  {
   "cell_type": "code",
   "execution_count": null,
   "metadata": {},
   "outputs": [],
   "source": [
    "import graphing\r\n",
    "\r\n",
    "# 'graphing' is custom code we use to make graphs quickly.\r\n",
    "# If you would like to read it in detail, it can be found\r\n",
    "# in our GitHub repository\r\n",
    "graphing.histogram(dataset, 'Pclass', title='Ticket Class (All Passengers)', show=True)\r\n",
    "graphing.histogram(unknown_age_and_cabin, 'Pclass', title='Ticket Class (Passengers Missing Cabin and Age Information)')"
   ]
  },
  {
   "cell_type": "code",
   "execution_count": null,
   "metadata": {},
   "outputs": [],
   "source": [
    "import numpy as np\r\n",
    "\r\n",
    "# Print out the average age of passengers we have age data for\r\n",
    "mean_age = np.mean(dataset.Age)\r\n",
    "print(\"The average age on the ship was\", mean_age, \"years old\")\r\n",
    "\r\n",
    "# Now make another model where missing ages contained a 0\r\n",
    "dataset['Age_2'] = dataset['Age'].fillna(0)\r\n",
    "mean_age = np.mean(dataset.Age_2)\r\n",
    "print(\"The average age on the ship was\", mean_age, \"years old\")"
   ]
  },
  {
   "cell_type": "code",
   "execution_count": null,
   "metadata": {},
   "outputs": [],
   "source": [
    "graphing.histogram(dataset, label_x=\"Age_2\")"
   ]
  },
  {
   "cell_type": "code",
   "execution_count": null,
   "metadata": {},
   "outputs": [],
   "source": [
    "# Create a \"clean\" dataset where we cumulatively fix missing values\r\n",
    "# Start by removing rows ONLY where \"Embarked\" has no values\r\n",
    "print(f\"The original size of our dataset was\", dataset.shape)\r\n",
    "clean_dataset = dataset.dropna(subset=[\"Embarked\"])\r\n",
    "clean_dataset = clean_dataset.reindex()\r\n",
    "\r\n",
    "# How many rows do we have now?\r\n",
    "print(\"The shape for the clean dataset is\", clean_dataset.shape)"
   ]
  },
  {
   "cell_type": "code",
   "execution_count": null,
   "metadata": {},
   "outputs": [],
   "source": [
    "# Calculate the mean value for the Age column\r\n",
    "mean_age = clean_dataset[\"Age\"].mean()\r\n",
    "\r\n",
    "print(\"The mean age is\", mean_age)\r\n",
    "\r\n",
    "# Replace empty values in \"Age\" with the mean calculated above\r\n",
    "clean_dataset[\"Age\"].fillna(mean_age, inplace=True)\r\n",
    "\r\n",
    "# Let's see what the clean dataset looks like now\r\n",
    "print(clean_dataset.isnull().sum().to_frame().rename(columns={0:'Empty Cells'}))"
   ]
  },
  {
   "cell_type": "code",
   "execution_count": null,
   "metadata": {},
   "outputs": [],
   "source": [
    "# Assign unknow to records where \"Cabin\" is empty\r\n",
    "clean_dataset[\"Cabin\"].fillna(\"Unknown\", inplace=True)\r\n",
    "\r\n",
    "# Let's see what the clean dataset looks like now\r\n",
    "print(clean_dataset.isnull().sum().to_frame().rename(columns={0:'Empty Cells'}))"
   ]
  }
 ],
 "metadata": {
  "kernelspec": {
   "display_name": "Python 3.9.5 64-bit",
   "name": "python395jvsc74a57bd0b62550ee9875c103988241e840a33346a8e052936219caf3064f7a25db6fe747"
  },
  "language_info": {
   "name": "python",
   "version": ""
  },
  "orig_nbformat": 2
 },
 "nbformat": 4,
 "nbformat_minor": 2
}