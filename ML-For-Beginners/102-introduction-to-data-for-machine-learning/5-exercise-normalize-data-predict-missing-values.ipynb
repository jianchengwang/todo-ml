{
 "cells": [
  {
   "cell_type": "code",
   "execution_count": null,
   "metadata": {},
   "outputs": [],
   "source": [
    "import pandas as pd\r\n",
    "\r\n",
    "# Load data from our dataset file into a pandas dataframe\r\n",
    "# wget https://raw.githubusercontent.com/MicrosoftDocs/mslearn-introduction-to-machine-learning/main/Data/titanic.csv\r\n",
    "# wget https://raw.githubusercontent.com/MicrosoftDocs/mslearn-introduction-to-machine-learning/main/graphing.py\r\n",
    "dataset = pd.read_csv('titanic.csv', index_col=False, sep=\",\", header=0)\r\n",
    "\r\n",
    "# Let's take a look at the data\r\n",
    "dataset.head()"
   ]
  },
  {
   "cell_type": "code",
   "execution_count": null,
   "metadata": {},
   "outputs": [],
   "source": [
    "dataset.info()"
   ]
  },
  {
   "cell_type": "code",
   "execution_count": null,
   "metadata": {},
   "outputs": [],
   "source": [
    "import graphing\r\n",
    "\r\n",
    "graphing.histogram(dataset, label_x='Pclass', label_y='Survived', histfunc='avg', include_boxplot=True)\r\n"
   ]
  },
  {
   "cell_type": "code",
   "execution_count": null,
   "metadata": {},
   "outputs": [],
   "source": [
    "graphing.multiple_histogram(dataset, \r\n",
    "                            label_x='Pclass', # group by ticket class\r\n",
    "                            label_group=\"Parch\", # colour by no parents or children\r\n",
    "                            label_y='Survived', \r\n",
    "                            histfunc=\"avg\")"
   ]
  },
  {
   "cell_type": "code",
   "execution_count": null,
   "metadata": {},
   "outputs": [],
   "source": [
    "graphing.box_and_whisker(dataset, label_x=\"Pclass\", label_y=\"SibSp\")"
   ]
  },
  {
   "cell_type": "code",
   "execution_count": null,
   "metadata": {},
   "outputs": [],
   "source": [
    "graphing.scatter_2D(dataset, label_x=\"Age\", label_y=\"Fare\")"
   ]
  },
  {
   "cell_type": "code",
   "execution_count": null,
   "metadata": {},
   "outputs": [],
   "source": [
    "# Plot Fare vs Survival\r\n",
    "graphing.histogram(dataset, label_x=\"Fare\", label_y=\"Survived\", histfunc=\"avg\", nbins=30, title=\"Fare vs Survival\", include_boxplot=True, show=True)\r\n",
    "\r\n",
    "# Plot Age vs Survival\r\n",
    "graphing.histogram(dataset, label_x=\"Age\", label_y=\"Survived\", histfunc=\"avg\", title=\"Age vs Survival\", nbins=30, include_boxplot=True)\r\n"
   ]
  },
  {
   "cell_type": "code",
   "execution_count": null,
   "metadata": {},
   "outputs": [],
   "source": [
    "import plotly.graph_objects as go\r\n",
    "import numpy as np\r\n",
    "\r\n",
    "# Create some simple functions\r\n",
    "# Read their descriptions to find out more \r\n",
    "def get_rows(sex, port):\r\n",
    "    '''Returns rows that match in terms of sex and embarkment port'''\r\n",
    "    return dataset[(dataset.Embarked == port) & (dataset.Sex == sex)]\r\n",
    "\r\n",
    "def proportion_survived(sex, port):\r\n",
    "    '''Returns the proportion of people meeting criteria who survived'''\r\n",
    "    survived = get_rows(sex, port).Survived\r\n",
    "    return np.mean(survived)\r\n",
    "\r\n",
    "# Make two columns of data - together these represent each combination\r\n",
    "# of sex and embarkment port\r\n",
    "sexes = [\"male\", \"male\", \"male\", \"female\",\"female\", \"female\"]\r\n",
    "ports = [\"C\", \"Q\", \"S\" ] * 2\r\n",
    "\r\n",
    "# Calculate the number of passengers at each port + sex combination\r\n",
    "passenger_count = [len(get_rows(sex, port)) for sex,port in zip(sexes, ports)]\r\n",
    "\r\n",
    "# Calculate the proportion of passengers from each port + sex combination who survived\r\n",
    "passenger_survival = [proportion_survived(sex, port) for sex,port in zip(sexes, ports)]\r\n",
    "\r\n",
    "# Combine into a single data frame\r\n",
    "table = pd.DataFrame(dict(\r\n",
    "    sex=sexes,\r\n",
    "    port=ports,\r\n",
    "    passenger_count=passenger_count,\r\n",
    "    passenger_survival_rate=passenger_survival\r\n",
    "))\r\n",
    "\r\n",
    "# Make a bubble plot\r\n",
    "# This is just a scatter plot but each entry in the plot \r\n",
    "# has a size and colour. We set colour to passenger_survival \r\n",
    "# and size to the number of passengers \r\n",
    "graphing.scatter_2D(table, \r\n",
    "                    label_colour=\"passenger_survival_rate\", \r\n",
    "                    label_size=\"passenger_count\", \r\n",
    "                    size_multiplier=0.3,\r\n",
    "                    title=\"Bubble Plot of Categorical Data\")"
   ]
  }
 ],
 "metadata": {
  "kernelspec": {
   "display_name": "Python 3.9.5 64-bit",
   "name": "python395jvsc74a57bd0b62550ee9875c103988241e840a33346a8e052936219caf3064f7a25db6fe747"
  },
  "language_info": {
   "codemirror_mode": {
    "name": "ipython",
    "version": 3
   },
   "file_extension": ".py",
   "mimetype": "text/x-python",
   "name": "python",
   "nbconvert_exporter": "python",
   "pygments_lexer": "ipython3",
   "version": "3.9.5"
  },
  "orig_nbformat": 2
 },
 "nbformat": 4,
 "nbformat_minor": 2
}