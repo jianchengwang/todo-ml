{
 "cells": [
  {
   "cell_type": "code",
   "execution_count": null,
   "metadata": {},
   "outputs": [],
   "source": [
    "# load libraries\r\n",
    "import pandas as pd\r\n",
    "import matplotlib.pyplot as plt\r\n",
    "import numpy as np\r\n",
    "\r\n",
    "\r\n",
    "# get data\r\n",
    "# wget https://raw.githubusercontent.com/MicrosoftDocs/mslearn-introduction-to-machine-learning/main/Data/ml-basics/daily-bike-share.csv\r\n",
    "bike_data = pd.read_csv('daily-bike-share.csv')\r\n",
    "bike_data.head()\r\n",
    "\r\n",
    "# add column\r\n",
    "bike_data['day'] = pd.DatetimeIndex(bike_data['dteday']).day\r\n",
    "bike_data.head(32)\r\n",
    "\r\n",
    "# numeric featyres\r\n",
    "numeric_features = ['temp', 'atemp', 'hum', 'windspeed']\r\n",
    "bike_data[numeric_features + ['rentals']].describe()\r\n"
   ]
  },
  {
   "cell_type": "code",
   "execution_count": null,
   "metadata": {},
   "outputs": [],
   "source": [
    "\r\n",
    "# visualizing the data\r\n",
    "# Get the label column\r\n",
    "label = bike_data['rentals']\r\n",
    "# Create a figure for 2 subplots (2 rows, 1 column)\r\n",
    "fig, ax = plt.subplots(2, 1, figsize = (9,12))\r\n",
    "# Plot the histogram  \r\n",
    "ax[0].hist(label, bins=100)\r\n",
    "ax[0].set_ylabel('Frequency')\r\n",
    "# Add lines for the mean, median, and mode\r\n",
    "ax[0].axvline(label.mean(), color='magenta', linestyle='dashed', linewidth=2)\r\n",
    "ax[0].axvline(label.median(), color='cyan', linestyle='dashed', linewidth=2)\r\n",
    "# Plot the boxplot\r\n",
    "ax[1].boxplot(label, vert=False)\r\n",
    "ax[1].set_xlabel('Rentals')\r\n",
    "# Add a title to the Figurea\r\n",
    "fig.suptitle('Rental Distribution')\r\n",
    "# Show the figure\r\n",
    "fig.show()"
   ]
  },
  {
   "cell_type": "code",
   "execution_count": null,
   "metadata": {},
   "outputs": [],
   "source": [
    "# Plot a histogram for each numeric feature\r\n",
    "for col in numeric_features:\r\n",
    "    fig = plt.figure(figsize=(9, 6))\r\n",
    "    ax = fig.gca()\r\n",
    "    feature = bike_data[col]\r\n",
    "    feature.hist(bins=100, ax = ax)\r\n",
    "    ax.axvline(feature.mean(), color='magenta', linestyle='dashed', linewidth=2)\r\n",
    "    ax.axvline(feature.median(), color='cyan', linestyle='dashed', linewidth=2)\r\n",
    "    ax.set_title(col)\r\n",
    "plt.show()"
   ]
  },
  {
   "cell_type": "code",
   "execution_count": null,
   "metadata": {},
   "outputs": [],
   "source": [
    "# plot a bar plot for each categorical feature count\r\n",
    "categorical_features = ['season','mnth','holiday','weekday','workingday','weathersit', 'day']\r\n",
    "for col in categorical_features:\r\n",
    "    counts = bike_data[col].value_counts().sort_index()\r\n",
    "    fig = plt.figure(figsize=(9, 6))\r\n",
    "    ax = fig.gca()\r\n",
    "    counts.plot.bar(ax = ax, color='steelblue')\r\n",
    "    ax.set_title(col + ' counts')\r\n",
    "    ax.set_xlabel(col) \r\n",
    "    ax.set_ylabel(\"Frequency\")\r\n",
    "plt.show()"
   ]
  },
  {
   "cell_type": "code",
   "execution_count": null,
   "metadata": {},
   "outputs": [],
   "source": [
    "# plot a boxplot for the label by each categorical feature\r\n",
    "for col in categorical_features:\r\n",
    "    fig = plt.figure(figsize=(9, 6))\r\n",
    "    ax = fig.gca()\r\n",
    "    bike_data.boxplot(column = 'rentals', by = col, ax = ax)\r\n",
    "    ax.set_title('Label by ' + col)\r\n",
    "    ax.set_ylabel(\"Bike Rentals\")\r\n",
    "plt.show()"
   ]
  },
  {
   "cell_type": "code",
   "execution_count": null,
   "metadata": {},
   "outputs": [],
   "source": [
    "# Separate features and labels\r\n",
    "X, y = bike_data[['season','mnth', 'holiday','weekday','workingday','weathersit','temp', 'atemp', 'hum', 'windspeed']].values, bike_data['rentals'].values\r\n",
    "print('Features:',X[:10], '\\nLabels:', y[:10], sep='\\n')"
   ]
  },
  {
   "cell_type": "code",
   "execution_count": null,
   "metadata": {},
   "outputs": [],
   "source": [
    "from sklearn.model_selection import train_test_split\r\n",
    "\r\n",
    "# Split data 70%-30% into training set and test set\r\n",
    "X_train, X_test, y_train, y_test = train_test_split(X, y, test_size=0.30, random_state=0)\r\n",
    "\r\n",
    "print ('Training Set: %d rows\\nTest Set: %d rows' % (X_train.shape[0], X_test.shape[0]))"
   ]
  },
  {
   "cell_type": "code",
   "execution_count": null,
   "metadata": {},
   "outputs": [],
   "source": [
    "# Train the model\r\n",
    "from sklearn.linear_model import LinearRegression\r\n",
    "# Fit a linear regression model on the training set\r\n",
    "model = LinearRegression().fit(X_train, y_train)\r\n",
    "print(model)"
   ]
  },
  {
   "cell_type": "code",
   "execution_count": null,
   "metadata": {},
   "outputs": [],
   "source": [
    "import numpy as np\r\n",
    "\r\n",
    "predictions = model.predict(X_test)\r\n",
    "np.set_printoptions(suppress=True)\r\n",
    "print('Predicted labels: ', np.round(predictions)[:10])\r\n",
    "print('Actual labels   : ' ,y_test[:10])"
   ]
  },
  {
   "cell_type": "code",
   "execution_count": null,
   "metadata": {},
   "outputs": [],
   "source": [
    "import matplotlib.pyplot as plt\r\n",
    "\r\n",
    "plt.scatter(y_test, predictions)\r\n",
    "plt.xlabel('Actual Labels')\r\n",
    "plt.ylabel('Predicted Labels')\r\n",
    "plt.title('Daily Bike Share Predictions')\r\n",
    "# overlay the regression line\r\n",
    "z = np.polyfit(y_test, predictions, 1)\r\n",
    "p = np.poly1d(z)\r\n",
    "plt.plot(y_test,p(y_test), color='magenta')\r\n",
    "plt.show()"
   ]
  },
  {
   "cell_type": "code",
   "execution_count": null,
   "metadata": {},
   "outputs": [],
   "source": [
    "from sklearn.metrics import mean_squared_error, r2_score\r\n",
    "\r\n",
    "mse = mean_squared_error(y_test, predictions)\r\n",
    "print(\"MSE:\", mse)\r\n",
    "\r\n",
    "rmse = np.sqrt(mse)\r\n",
    "print(\"RMSE:\", rmse)\r\n",
    "\r\n",
    "r2 = r2_score(y_test, predictions)\r\n",
    "print(\"R2:\", r2)"
   ]
  }
 ],
 "metadata": {
  "kernelspec": {
   "display_name": "Python 3.9.5 64-bit",
   "name": "python395jvsc74a57bd0b62550ee9875c103988241e840a33346a8e052936219caf3064f7a25db6fe747"
  },
  "language_info": {
   "name": "python",
   "version": ""
  },
  "orig_nbformat": 2
 },
 "nbformat": 4,
 "nbformat_minor": 2
}