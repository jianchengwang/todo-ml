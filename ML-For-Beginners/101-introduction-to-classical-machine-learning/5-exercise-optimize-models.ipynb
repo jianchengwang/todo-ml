{
 "cells": [
  {
   "cell_type": "code",
   "execution_count": null,
   "metadata": {},
   "outputs": [],
   "source": [
    "import pandas\r\n",
    "# wget https://raw.githubusercontent.com/MicrosoftDocs/mslearn-introduction-to-machine-learning/main/graphing.py\r\n",
    "# wget https://raw.githubusercontent.com/MicrosoftDocs/mslearn-introduction-to-machine-learning/main/microsoft_custom_linear_regressor.py\r\n",
    "# wget https://raw.githubusercontent.com/MicrosoftDocs/mslearn-introduction-to-machine-learning/main/Data/seattleWeather_1948-2017.csv\r\n",
    "from datetime import datetime\r\n",
    "\r\n",
    "# Load a file containing our weather data\r\n",
    "dataset = pandas.read_csv('seattleWeather_1948-2017.csv', parse_dates=['date'])\r\n",
    "\r\n",
    "# Convert the dates into numbers so we can use it in our models\r\n",
    "# We make a year column which can contain fractions. For example\r\n",
    "# 1948.5 is half way through the year 1948\r\n",
    "dataset[\"year\"] = [(d.year + d.timetuple().tm_yday / 365.25) for d in dataset.date]\r\n",
    "\r\n",
    "\r\n",
    "# For the sake of this exercise, let's look at Feb 1st for the following years:\r\n",
    "desired_dates = [\r\n",
    "    datetime(1950,2,1),\r\n",
    "    datetime(1960,2,1),\r\n",
    "    datetime(1970,2,1),\r\n",
    "    datetime(1980,2,1),\r\n",
    "    datetime(1990,2,1),\r\n",
    "    datetime(2000,2,1),\r\n",
    "    datetime(2010,2,1),\r\n",
    "    datetime(2017,2,1),\r\n",
    "]\r\n",
    "\r\n",
    "dataset = dataset[dataset.date.isin(desired_dates)].copy()\r\n",
    "\r\n",
    "# Print the dataset\r\n",
    "dataset"
   ]
  },
  {
   "cell_type": "code",
   "execution_count": 2,
   "metadata": {},
   "outputs": [],
   "source": [
    "import numpy\r\n",
    "\r\n",
    "def sum_of_square_differences(estimate, actual):\r\n",
    "    # Note that with numpy to square each value we use **\r\n",
    "    return numpy.sum((estimate - actual)**2)\r\n",
    "\r\n",
    "def sum_of_absolute_differences(estimate, actual):\r\n",
    "    return numpy.sum(numpy.abs(estimate - actual))"
   ]
  },
  {
   "cell_type": "code",
   "execution_count": null,
   "metadata": {},
   "outputs": [],
   "source": [
    "actual_label = numpy.array([1, 3])\r\n",
    "model_estimate = numpy.array([2, 2])\r\n",
    "\r\n",
    "print(\"SSD:\", sum_of_square_differences(model_estimate, actual_label))\r\n",
    "print(\"SAD:\", sum_of_absolute_differences(model_estimate, actual_label))"
   ]
  },
  {
   "cell_type": "code",
   "execution_count": null,
   "metadata": {},
   "outputs": [],
   "source": [
    "actual_label = numpy.array([1, 3])\r\n",
    "model_estimate = numpy.array([1, 1])\r\n",
    "\r\n",
    "print(\"SSD:\", sum_of_square_differences(model_estimate, actual_label))\r\n",
    "print(\"SAD:\", sum_of_absolute_differences(model_estimate, actual_label))"
   ]
  },
  {
   "cell_type": "code",
   "execution_count": null,
   "metadata": {},
   "outputs": [],
   "source": [
    "from microsoft_custom_linear_regressor import MicrosoftCustomLinearRegressor\r\n",
    "import graphing\r\n",
    "\r\n",
    "# Create and fit the model\r\n",
    "# We use a custom object that we have hidden from this notebook as\r\n",
    "# you do not need to understand its details. This fits a linear model\r\n",
    "# using a provided cost function\r\n",
    "\r\n",
    "# Fit a model using sum of square differences\r\n",
    "model = MicrosoftCustomLinearRegressor().fit(X = dataset.year, \r\n",
    "                                             y = dataset.min_temperature, \r\n",
    "                                             cost_function = sum_of_square_differences)\r\n",
    "\r\n",
    "# Graph the model\r\n",
    "graphing.scatter_2D(dataset, \r\n",
    "                    label_x=\"year\", \r\n",
    "                    label_y=\"min_temperature\", \r\n",
    "                    trendline=model.predict)\r\n"
   ]
  },
  {
   "cell_type": "code",
   "execution_count": null,
   "metadata": {},
   "outputs": [],
   "source": [
    "# Fit a model with SSD\r\n",
    "# Fit a model using sum of square differences\r\n",
    "model = MicrosoftCustomLinearRegressor().fit(X = dataset.year, \r\n",
    "                                             y = dataset.min_temperature, \r\n",
    "                                             cost_function = sum_of_absolute_differences)\r\n",
    "\r\n",
    "# Graph the model\r\n",
    "graphing.scatter_2D(dataset, \r\n",
    "                    label_x=\"year\", \r\n",
    "                    label_y=\"min_temperature\", \r\n",
    "                    trendline=model.predict)\r\n"
   ]
  }
 ],
 "metadata": {
  "kernelspec": {
   "display_name": "Python 3.9.5 64-bit",
   "name": "python395jvsc74a57bd0b62550ee9875c103988241e840a33346a8e052936219caf3064f7a25db6fe747"
  },
  "language_info": {
   "codemirror_mode": {
    "name": "ipython",
    "version": 3
   },
   "file_extension": ".py",
   "mimetype": "text/x-python",
   "name": "python",
   "nbconvert_exporter": "python",
   "pygments_lexer": "ipython3",
   "version": "3.9.5"
  },
  "orig_nbformat": 2
 },
 "nbformat": 4,
 "nbformat_minor": 2
}