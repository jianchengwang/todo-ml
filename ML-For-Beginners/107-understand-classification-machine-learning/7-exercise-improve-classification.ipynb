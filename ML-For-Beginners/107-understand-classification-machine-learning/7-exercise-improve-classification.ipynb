{
 "cells": [
  {
   "cell_type": "code",
   "execution_count": null,
   "metadata": {},
   "outputs": [],
   "source": [
    "import pandas\r\n",
    "#pip install statsmodels\r\n",
    "#wget https://raw.githubusercontent.com/MicrosoftDocs/mslearn-introduction-to-machine-learning/main/graphing.py\r\n",
    "#wget https://raw.githubusercontent.com/MicrosoftDocs/mslearn-introduction-to-machine-learning/main/Data/avalanche.csv\r\n",
    "import graphing # custom graphing code. See our GitHub repo for details\r\n",
    "\r\n",
    "#Import the data from the .csv file\r\n",
    "dataset = pandas.read_csv('avalanche.csv', delimiter=\"\\t\", index_col=0)\r\n",
    "\r\n",
    "# Split our data into training and test\r\n",
    "import sklearn.model_selection\r\n",
    "train, test = sklearn.model_selection.train_test_split(dataset, test_size=0.25, random_state=10)\r\n",
    "\r\n",
    "print(\"Train size:\", train.shape[0])\r\n",
    "print(\"Test size:\", test.shape[0])\r\n",
    "\r\n",
    "#Let's have a look at the data\r\n",
    "print(train.head())"
   ]
  },
  {
   "cell_type": "code",
   "execution_count": null,
   "metadata": {},
   "outputs": [],
   "source": [
    "import sklearn\r\n",
    "from sklearn.metrics import accuracy_score\r\n",
    "import statsmodels.formula.api as smf\r\n",
    "\r\n",
    "# Perform logistic regression.\r\n",
    "model = smf.logit(\"avalanche ~ weak_layers\", train).fit()\r\n",
    "\r\n",
    "# Calculate accuracy\r\n",
    "def calculate_accuracy(model):\r\n",
    "    '''\r\n",
    "    Calculates accuracy\r\n",
    "    '''\r\n",
    "    # Make estimations and convert to categories\r\n",
    "    avalanche_predicted = model.predict(test) > 0.5\r\n",
    "\r\n",
    "    # Calculate what proportion were predicted correctly\r\n",
    "    # We can use sklearn to calculate accuracy for us\r\n",
    "    print(\"Accuracy:\", accuracy_score(test.avalanche, avalanche_predicted))\r\n",
    "\r\n",
    "calculate_accuracy(model)"
   ]
  },
  {
   "cell_type": "code",
   "execution_count": null,
   "metadata": {},
   "outputs": [],
   "source": [
    "# Perform logistic regression.\r\n",
    "model_all_features = smf.logit(\"avalanche ~ weak_layers + surface_hoar + fresh_thickness + wind + no_visitors + tracked_out\", train).fit()\r\n",
    "calculate_accuracy(model_all_features)"
   ]
  },
  {
   "cell_type": "code",
   "execution_count": null,
   "metadata": {},
   "outputs": [],
   "source": [
    "model_all_features.summary()"
   ]
  },
  {
   "cell_type": "code",
   "execution_count": null,
   "metadata": {},
   "outputs": [],
   "source": [
    "# Perform logistic regression.\r\n",
    "model_simplified = smf.logit(\"avalanche ~ weak_layers + surface_hoar + wind + no_visitors\", train).fit()\r\n",
    "calculate_accuracy(model_simplified)"
   ]
  },
  {
   "cell_type": "code",
   "execution_count": null,
   "metadata": {},
   "outputs": [],
   "source": [
    "model_all_features.summary()"
   ]
  },
  {
   "cell_type": "code",
   "execution_count": null,
   "metadata": {},
   "outputs": [],
   "source": [
    "# Create a model with an interaction. Notice the end of the string where\r\n",
    "# we've a multiply sign between no_visitors and fresh_thickness\r\n",
    "formula = \"avalanche ~ weak_layers + surface_hoar + wind + no_visitors * fresh_thickness\"\r\n",
    "model_with_interaction = smf.logit(formula, train).fit()\r\n",
    "calculate_accuracy(model_with_interaction)"
   ]
  },
  {
   "cell_type": "code",
   "execution_count": null,
   "metadata": {},
   "outputs": [],
   "source": [
    "model_with_interaction.summary()"
   ]
  },
  {
   "cell_type": "code",
   "execution_count": null,
   "metadata": {},
   "outputs": [],
   "source": [
    "graphing.model_to_surface_plot(model_with_interaction, [\"weak_layers\", \"wind\"], test)"
   ]
  },
  {
   "cell_type": "code",
   "execution_count": null,
   "metadata": {},
   "outputs": [],
   "source": [
    "graphing.model_to_surface_plot(model_with_interaction, [\"no_visitors\", \"fresh_thickness\"], test)"
   ]
  }
 ],
 "metadata": {
  "kernelspec": {
   "display_name": "Python 3.9.5 64-bit",
   "name": "python395jvsc74a57bd0b62550ee9875c103988241e840a33346a8e052936219caf3064f7a25db6fe747"
  },
  "language_info": {
   "codemirror_mode": {
    "name": "ipython",
    "version": 3
   },
   "file_extension": ".py",
   "mimetype": "text/x-python",
   "name": "python",
   "nbconvert_exporter": "python",
   "pygments_lexer": "ipython3",
   "version": "3.9.5"
  },
  "orig_nbformat": 2
 },
 "nbformat": 4,
 "nbformat_minor": 2
}