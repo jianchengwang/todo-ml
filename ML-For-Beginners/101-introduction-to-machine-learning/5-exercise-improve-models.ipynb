{
 "cells": [
  {
   "cell_type": "code",
   "execution_count": null,
   "metadata": {},
   "outputs": [],
   "source": [
    "import pandas\r\n",
    "# wget https://raw.githubusercontent.com/MicrosoftDocs/mslearn-introduction-to-machine-learning/main/graphing.py\r\n",
    "# wget https://raw.githubusercontent.com/MicrosoftDocs/mslearn-introduction-to-machine-learning/main/Data/doggy-boot-harness.csv\r\n",
    "\r\n",
    "# Read the text file containing data using pandas\r\n",
    "dataset = pandas.read_csv('doggy-boot-harness.csv')\r\n",
    "\r\n",
    "# Print the data\r\n",
    "# Because there are a lot of data, use head() to only print the first few rows\r\n",
    "dataset.head()"
   ]
  },
  {
   "cell_type": "code",
   "execution_count": null,
   "metadata": {},
   "outputs": [],
   "source": [
    "# Look at the harness sizes\r\n",
    "print(\"Harness sizes\")\r\n",
    "print(dataset.harness_size)\r\n",
    "\r\n",
    "# Remove the sex and age-in-years columns.\r\n",
    "del dataset[\"sex\"]\r\n",
    "del dataset[\"age_years\"]\r\n",
    "\r\n",
    "# Print the column names\r\n",
    "print(\"\\nAvailable columns after deleting sex and age information:\")\r\n",
    "print(dataset.columns.values)"
   ]
  },
  {
   "cell_type": "code",
   "execution_count": null,
   "metadata": {},
   "outputs": [],
   "source": [
    "# Print the data at the top of the table\r\n",
    "print(\"TOP OF TABLE\")\r\n",
    "print(dataset.head())\r\n",
    "\r\n",
    "# print the data at the bottom of the table\r\n",
    "print(\"\\nBOTTOM OF TABLE\")\r\n",
    "print(dataset.tail())"
   ]
  },
  {
   "cell_type": "code",
   "execution_count": null,
   "metadata": {},
   "outputs": [],
   "source": [
    "# Print how many rows of data we have\r\n",
    "print(f\"We have {len(dataset)} rows of data\")\r\n",
    "\r\n",
    "# Determine whether each avalanche dog's harness size is < 55\r\n",
    "# This creates a True or False value for each row where True means \r\n",
    "# they are smaller than 55\r\n",
    "is_small = dataset.harness_size < 55\r\n",
    "print(\"\\nWhether the dog's harness was smaller than size 55:\")\r\n",
    "print(is_small)\r\n",
    "\r\n",
    "# Now apply this 'mask' to our data to keep the smaller dogs\r\n",
    "data_from_small_dogs = dataset[is_small]\r\n",
    "print(\"\\nData for dogs with harness smaller than size 55:\")\r\n",
    "print(data_from_small_dogs)\r\n",
    "\r\n",
    "# Print the number of small dogs\r\n",
    "print(f\"\\nNumber of dogs with harness size less than 55: {len(data_from_small_dogs)}\")"
   ]
  },
  {
   "cell_type": "code",
   "execution_count": null,
   "metadata": {},
   "outputs": [],
   "source": [
    "# Make a copy of the dataset that only contains dogs with \r\n",
    "# a boot size below size 40\r\n",
    "# The call to copy() is optional but can help avoid unexpected\r\n",
    "# behaviour in more complex scenarios\r\n",
    "data_smaller_paws = dataset[dataset.boot_size < 40].copy()\r\n",
    "\r\n",
    "\r\n",
    "# Print information about this\r\n",
    "print(f\"We now have {len(data_smaller_paws)} rows in our dataset. The last few rows are:\")\r\n",
    "data_smaller_paws.tail()"
   ]
  },
  {
   "cell_type": "code",
   "execution_count": null,
   "metadata": {},
   "outputs": [],
   "source": [
    "# Load and prepare plotly to create our graphs\r\n",
    "import plotly.express\r\n",
    "import graphing # this is a custom file you can find in our code on github\r\n",
    "\r\n",
    "# Show a graph of harness size by boot size:\r\n",
    "plotly.express.scatter(data_smaller_paws, x=\"harness_size\", y=\"boot_size\")"
   ]
  },
  {
   "cell_type": "code",
   "execution_count": null,
   "metadata": {},
   "outputs": [],
   "source": [
    "# Convert harness sizes from metric to imperial units \r\n",
    "# and save the result to a new column\r\n",
    "data_smaller_paws['harness_size_imperial'] = data_smaller_paws.harness_size / 2.54\r\n",
    "\r\n",
    "# Show a graph but not in imperial units\r\n",
    "plotly.express.scatter(data_smaller_paws, x=\"harness_size_imperial\", y=\"boot_size\")"
   ]
  }
 ],
 "metadata": {
  "kernelspec": {
   "display_name": "Python 3.9.5 64-bit",
   "name": "python395jvsc74a57bd0b62550ee9875c103988241e840a33346a8e052936219caf3064f7a25db6fe747"
  },
  "language_info": {
   "codemirror_mode": {
    "name": "ipython",
    "version": 3
   },
   "file_extension": ".py",
   "mimetype": "text/x-python",
   "name": "python",
   "nbconvert_exporter": "python",
   "pygments_lexer": "ipython3",
   "version": "3.9.5"
  },
  "orig_nbformat": 2
 },
 "nbformat": 4,
 "nbformat_minor": 2
}