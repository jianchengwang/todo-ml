{
 "cells": [
  {
   "cell_type": "code",
   "execution_count": null,
   "source": [
    "import pandas as pd\r\n",
    "\r\n",
    "# load the training dataset\r\n",
    "# wget https://raw.githubusercontent.com/MicrosoftDocs/mslearn-introduction-to-machine-learning/main/Data/ml-basics/diabetes.csv\r\n",
    "diabetes = pd.read_csv('diabetes.csv')\r\n",
    "diabetes.head()"
   ],
   "outputs": [],
   "metadata": {}
  },
  {
   "cell_type": "code",
   "execution_count": null,
   "source": [
    "# Separate features and labels\r\n",
    "features = ['Pregnancies','PlasmaGlucose','DiastolicBloodPressure','TricepsThickness','SerumInsulin','BMI','DiabetesPedigree','Age']\r\n",
    "label = 'Diabetic'\r\n",
    "X, y = diabetes[features].values, diabetes[label].values\r\n",
    "\r\n",
    "for n in range(0,4):\r\n",
    "    print(\"Patient\", str(n+1), \"\\n  Features:\",list(X[n]), \"\\n  Label:\", y[n])"
   ],
   "outputs": [],
   "metadata": {}
  },
  {
   "cell_type": "code",
   "execution_count": null,
   "source": [
    "from matplotlib import pyplot as plt\r\n",
    "%matplotlib inline\r\n",
    "\r\n",
    "features = ['Pregnancies','PlasmaGlucose','DiastolicBloodPressure','TricepsThickness','SerumInsulin','BMI','DiabetesPedigree','Age']\r\n",
    "for col in features:\r\n",
    "    diabetes.boxplot(column=col, by='Diabetic', figsize=(6,6))\r\n",
    "    plt.title(col)\r\n",
    "plt.show()"
   ],
   "outputs": [],
   "metadata": {}
  },
  {
   "cell_type": "code",
   "execution_count": null,
   "source": [
    "from sklearn.model_selection import train_test_split\r\n",
    "\r\n",
    "# Split data 70%-30% into training set and test set\r\n",
    "X_train, X_test, y_train, y_test = train_test_split(X, y, test_size=0.30, random_state=0)\r\n",
    "\r\n",
    "print ('Training cases: %d\\nTest cases: %d' % (X_train.shape[0], X_test.shape[0]))"
   ],
   "outputs": [],
   "metadata": {}
  },
  {
   "cell_type": "code",
   "execution_count": null,
   "source": [
    "# Train the model\r\n",
    "from sklearn.linear_model import LogisticRegression\r\n",
    "\r\n",
    "# Set regularization rate\r\n",
    "reg = 0.01\r\n",
    "\r\n",
    "# train a logistic regression model on the training set\r\n",
    "model = LogisticRegression(C=1/reg, solver=\"liblinear\").fit(X_train, y_train)\r\n",
    "print (model)"
   ],
   "outputs": [],
   "metadata": {}
  },
  {
   "cell_type": "code",
   "execution_count": null,
   "source": [
    "predictions = model.predict(X_test)\r\n",
    "print('Predicted labels: ', predictions)\r\n",
    "print('Actual labels:    ' ,y_test)"
   ],
   "outputs": [],
   "metadata": {}
  },
  {
   "cell_type": "code",
   "execution_count": null,
   "source": [
    "from sklearn.metrics import accuracy_score\r\n",
    "\r\n",
    "print('Accuracy: ', accuracy_score(y_test, predictions))"
   ],
   "outputs": [],
   "metadata": {}
  },
  {
   "cell_type": "code",
   "execution_count": null,
   "source": [
    "from sklearn. metrics import classification_report\r\n",
    "\r\n",
    "print(classification_report(y_test, predictions))"
   ],
   "outputs": [],
   "metadata": {}
  },
  {
   "cell_type": "code",
   "execution_count": null,
   "source": [
    "from sklearn.metrics import precision_score, recall_score\r\n",
    "\r\n",
    "print(\"Overall Precision:\",precision_score(y_test, predictions))\r\n",
    "print(\"Overall Recall:\",recall_score(y_test, predictions))"
   ],
   "outputs": [],
   "metadata": {}
  },
  {
   "cell_type": "code",
   "execution_count": null,
   "source": [
    "from sklearn.metrics import confusion_matrix\r\n",
    "\r\n",
    "# Print the confusion matrix\r\n",
    "cm = confusion_matrix(y_test, predictions)\r\n",
    "print (cm)"
   ],
   "outputs": [],
   "metadata": {}
  },
  {
   "cell_type": "code",
   "execution_count": null,
   "source": [
    "y_scores = model.predict_proba(X_test)\r\n",
    "print(y_scores)"
   ],
   "outputs": [],
   "metadata": {}
  },
  {
   "cell_type": "code",
   "execution_count": null,
   "source": [
    "from sklearn.metrics import roc_curve\r\n",
    "from sklearn.metrics import confusion_matrix\r\n",
    "import matplotlib\r\n",
    "import matplotlib.pyplot as plt\r\n",
    "%matplotlib inline\r\n",
    "\r\n",
    "# calculate ROC curve\r\n",
    "fpr, tpr, thresholds = roc_curve(y_test, y_scores[:,1])\r\n",
    "\r\n",
    "# plot ROC curve\r\n",
    "fig = plt.figure(figsize=(6, 6))\r\n",
    "# Plot the diagonal 50% line\r\n",
    "plt.plot([0, 1], [0, 1], 'k--')\r\n",
    "# Plot the FPR and TPR achieved by our model\r\n",
    "plt.plot(fpr, tpr)\r\n",
    "plt.xlabel('False Positive Rate')\r\n",
    "plt.ylabel('True Positive Rate')\r\n",
    "plt.title('ROC Curve')\r\n",
    "plt.show()"
   ],
   "outputs": [],
   "metadata": {}
  },
  {
   "cell_type": "code",
   "execution_count": null,
   "source": [
    "from sklearn.metrics import roc_auc_score\r\n",
    "\r\n",
    "auc = roc_auc_score(y_test,y_scores[:,1])\r\n",
    "print('AUC: ' + str(auc))"
   ],
   "outputs": [],
   "metadata": {}
  },
  {
   "cell_type": "code",
   "execution_count": null,
   "source": [
    "# Train the model\r\n",
    "from sklearn.compose import ColumnTransformer\r\n",
    "from sklearn.pipeline import Pipeline\r\n",
    "from sklearn.preprocessing import StandardScaler, OneHotEncoder\r\n",
    "from sklearn.linear_model import LogisticRegression\r\n",
    "import numpy as np\r\n",
    "\r\n",
    "# Define preprocessing for numeric columns (normalize them so they're on the same scale)\r\n",
    "numeric_features = [0,1,2,3,4,5,6]\r\n",
    "numeric_transformer = Pipeline(steps=[\r\n",
    "    ('scaler', StandardScaler())])\r\n",
    "\r\n",
    "# Define preprocessing for categorical features (encode the Age column)\r\n",
    "categorical_features = [7]\r\n",
    "categorical_transformer = Pipeline(steps=[\r\n",
    "    ('onehot', OneHotEncoder(handle_unknown='ignore'))])\r\n",
    "\r\n",
    "# Combine preprocessing steps\r\n",
    "preprocessor = ColumnTransformer(\r\n",
    "    transformers=[\r\n",
    "        ('num', numeric_transformer, numeric_features),\r\n",
    "        ('cat', categorical_transformer, categorical_features)])\r\n",
    "\r\n",
    "# Create preprocessing and training pipeline\r\n",
    "pipeline = Pipeline(steps=[('preprocessor', preprocessor),\r\n",
    "                           ('logregressor', LogisticRegression(C=1/reg, solver=\"liblinear\"))])\r\n",
    "\r\n",
    "\r\n",
    "# fit the pipeline to train a logistic regression model on the training set\r\n",
    "model = pipeline.fit(X_train, (y_train))\r\n",
    "print (model)"
   ],
   "outputs": [],
   "metadata": {}
  },
  {
   "cell_type": "code",
   "execution_count": null,
   "source": [
    "# Get predictions from test data\r\n",
    "predictions = model.predict(X_test)\r\n",
    "y_scores = model.predict_proba(X_test)\r\n",
    "\r\n",
    "# Get evaluation metrics\r\n",
    "cm = confusion_matrix(y_test, predictions)\r\n",
    "print ('Confusion Matrix:\\n',cm, '\\n')\r\n",
    "print('Accuracy:', accuracy_score(y_test, predictions))\r\n",
    "print(\"Overall Precision:\",precision_score(y_test, predictions))\r\n",
    "print(\"Overall Recall:\",recall_score(y_test, predictions))\r\n",
    "auc = roc_auc_score(y_test,y_scores[:,1])\r\n",
    "print('AUC: ' + str(auc))\r\n",
    "\r\n",
    "# calculate ROC curve\r\n",
    "fpr, tpr, thresholds = roc_curve(y_test, y_scores[:,1])\r\n",
    "\r\n",
    "# plot ROC curve\r\n",
    "fig = plt.figure(figsize=(6, 6))\r\n",
    "# Plot the diagonal 50% line\r\n",
    "plt.plot([0, 1], [0, 1], 'k--')\r\n",
    "# Plot the FPR and TPR achieved by our model\r\n",
    "plt.plot(fpr, tpr)\r\n",
    "plt.xlabel('False Positive Rate')\r\n",
    "plt.ylabel('True Positive Rate')\r\n",
    "plt.title('ROC Curve')\r\n",
    "plt.show()\r\n"
   ],
   "outputs": [],
   "metadata": {}
  },
  {
   "cell_type": "code",
   "execution_count": null,
   "source": [
    "from sklearn.ensemble import RandomForestClassifier\r\n",
    "\r\n",
    "# Create preprocessing and training pipeline\r\n",
    "pipeline = Pipeline(steps=[('preprocessor', preprocessor),\r\n",
    "                           ('logregressor', RandomForestClassifier(n_estimators=100))])\r\n",
    "\r\n",
    "# fit the pipeline to train a random forest model on the training set\r\n",
    "model = pipeline.fit(X_train, (y_train))\r\n",
    "print (model)"
   ],
   "outputs": [],
   "metadata": {}
  },
  {
   "cell_type": "code",
   "execution_count": null,
   "source": [
    "predictions = model.predict(X_test)\r\n",
    "y_scores = model.predict_proba(X_test)\r\n",
    "cm = confusion_matrix(y_test, predictions)\r\n",
    "print ('Confusion Matrix:\\n',cm, '\\n')\r\n",
    "print('Accuracy:', accuracy_score(y_test, predictions))\r\n",
    "print(\"Overall Precision:\",precision_score(y_test, predictions))\r\n",
    "print(\"Overall Recall:\",recall_score(y_test, predictions))\r\n",
    "auc = roc_auc_score(y_test,y_scores[:,1])\r\n",
    "print('\\nAUC: ' + str(auc))\r\n",
    "\r\n",
    "# calculate ROC curve\r\n",
    "fpr, tpr, thresholds = roc_curve(y_test, y_scores[:,1])\r\n",
    "\r\n",
    "# plot ROC curve\r\n",
    "fig = plt.figure(figsize=(6, 6))\r\n",
    "# Plot the diagonal 50% line\r\n",
    "plt.plot([0, 1], [0, 1], 'k--')\r\n",
    "# Plot the FPR and TPR achieved by our model\r\n",
    "plt.plot(fpr, tpr)\r\n",
    "plt.xlabel('False Positive Rate')\r\n",
    "plt.ylabel('True Positive Rate')\r\n",
    "plt.title('ROC Curve')\r\n",
    "plt.show()"
   ],
   "outputs": [],
   "metadata": {}
  },
  {
   "cell_type": "code",
   "execution_count": null,
   "source": [
    "import joblib\r\n",
    "\r\n",
    "# Save the model as a pickle file\r\n",
    "filename = './diabetes_model.pkl'\r\n",
    "joblib.dump(model, filename)"
   ],
   "outputs": [],
   "metadata": {}
  },
  {
   "cell_type": "code",
   "execution_count": null,
   "source": [
    "# Load the model from the file\r\n",
    "model = joblib.load(filename)\r\n",
    "\r\n",
    "# predict on a new sample\r\n",
    "# The model accepts an array of feature arrays (so you can predict the classes of multiple patients in a single call)\r\n",
    "# We'll create an array with a single array of features, representing one patient\r\n",
    "X_new = np.array([[2,180,74,24,21,23.9091702,1.488172308,22]])\r\n",
    "print ('New sample: {}'.format(list(X_new[0])))\r\n",
    "\r\n",
    "# Get a prediction\r\n",
    "pred = model.predict(X_new)\r\n",
    "\r\n",
    "# The model returns an array of predictions - one for each set of features submitted\r\n",
    "# In our case, we only submitted one patient, so our prediction is the first one in the resulting array.\r\n",
    "print('Predicted class is {}'.format(pred[0]))"
   ],
   "outputs": [],
   "metadata": {}
  }
 ],
 "metadata": {
  "orig_nbformat": 4,
  "language_info": {
   "name": "python",
   "version": "3.8.3",
   "mimetype": "text/x-python",
   "codemirror_mode": {
    "name": "ipython",
    "version": 3
   },
   "pygments_lexer": "ipython3",
   "nbconvert_exporter": "python",
   "file_extension": ".py"
  },
  "kernelspec": {
   "name": "python3",
   "display_name": "Python 3.8.3 32-bit"
  },
  "interpreter": {
   "hash": "586dbcb5c5852d95733b4f6988d368a04938dc62b7d3e4b2ef6fb3176efba2da"
  }
 },
 "nbformat": 4,
 "nbformat_minor": 2
}