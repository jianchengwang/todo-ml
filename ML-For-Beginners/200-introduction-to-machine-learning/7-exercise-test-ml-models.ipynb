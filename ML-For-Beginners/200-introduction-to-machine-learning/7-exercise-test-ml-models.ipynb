{
 "cells": [
  {
   "cell_type": "code",
   "execution_count": null,
   "metadata": {},
   "outputs": [],
   "source": [
    "import pandas\r\n",
    "# pip install statsmodels\r\n",
    "# wget https://raw.githubusercontent.com/MicrosoftDocs/mslearn-introduction-to-machine-learning/main/graphing.py\r\n",
    "# wget https://raw.githubusercontent.com/MicrosoftDocs/mslearn-introduction-to-machine-learning/main/Data/doggy-boot-harness.csv\r\n",
    "\r\n",
    "# Load a file containing dog's boot and harness sizes\r\n",
    "data = pandas.read_csv('doggy-boot-harness.csv')\r\n",
    "\r\n",
    "# Print the first few rows\r\n",
    "data.head()"
   ]
  },
  {
   "cell_type": "code",
   "execution_count": null,
   "metadata": {},
   "outputs": [],
   "source": [
    "import statsmodels.formula.api as smf\r\n",
    "\r\n",
    "# Fit a simple model that finds a linear relationship\r\n",
    "# between booth size and harness size, which we can use later\r\n",
    "# to predict a dog's boot size, given their harness size\r\n",
    "model = smf.ols(formula = \"boot_size ~ harness_size\", data = data).fit()\r\n",
    "\r\n",
    "print(\"Model trained!\")"
   ]
  },
  {
   "cell_type": "code",
   "execution_count": null,
   "metadata": {},
   "outputs": [],
   "source": [
    "import joblib\r\n",
    "\r\n",
    "model_filename = './avalanche_dog_boot_model.pkl'\r\n",
    "joblib.dump(model, model_filename)\r\n",
    "\r\n",
    "print(\"Model saved!\")"
   ]
  },
  {
   "cell_type": "code",
   "execution_count": null,
   "metadata": {},
   "outputs": [],
   "source": [
    "model_loaded = joblib.load(model_filename)\r\n",
    "\r\n",
    "print(\"We have loaded a model with the following parameters:\")\r\n",
    "print(model_loaded.params)"
   ]
  },
  {
   "cell_type": "code",
   "execution_count": null,
   "metadata": {},
   "outputs": [],
   "source": [
    "# Let's write a function that loads and uses our model\r\n",
    "def load_model_and_predict(harness_size):\r\n",
    "    '''\r\n",
    "    This function loads a pretrained model. It uses the model\r\n",
    "    with the customer's dog's harness size to predict the size of\r\n",
    "    boots that will fit that dog.\r\n",
    "\r\n",
    "    harness_size: The dog harness size, in cm \r\n",
    "    '''\r\n",
    "\r\n",
    "    # Load the model from file and print basic information about it\r\n",
    "    loaded_model = joblib.load(model_filename)\r\n",
    "\r\n",
    "    print(\"We have loaded a model with the following parameters:\")\r\n",
    "    print(loaded_model.params)\r\n",
    "\r\n",
    "    # Prepare data for the model\r\n",
    "    inputs = {\"harness_size\":[harness_size]} \r\n",
    "\r\n",
    "    # Use the model to make a prediction\r\n",
    "    predicted_boot_size = loaded_model.predict(inputs)[0]\r\n",
    "\r\n",
    "    return predicted_boot_size\r\n",
    "\r\n",
    "# Practice using our model\r\n",
    "predicted_boot_size = load_model_and_predict(45)\r\n",
    "\r\n",
    "print(\"Predicted dog boot size:\", predicted_boot_size)"
   ]
  },
  {
   "cell_type": "code",
   "execution_count": null,
   "metadata": {},
   "outputs": [],
   "source": [
    "def check_size_of_boots(selected_harness_size, selected_boot_size):\r\n",
    "    '''\r\n",
    "    Calculates whether the customer has chosen a pair of doggy boots that \r\n",
    "    are a sensible size. This works by estimating the dog's actual boot \r\n",
    "    size from their harness size.\r\n",
    "\r\n",
    "    This returns a message for the customer that should be shown before\r\n",
    "    they complete their payment \r\n",
    "\r\n",
    "    selected_harness_size: The size of the harness the customer wants to buy\r\n",
    "    selected_boot_size: The size of the doggy boots the customer wants to buy\r\n",
    "    '''\r\n",
    "\r\n",
    "    # Estimate the customer's dog's boot size\r\n",
    "    estimated_boot_size = load_model_and_predict(selected_harness_size)\r\n",
    "\r\n",
    "    # Round to the nearest whole number because we don't sell partial sizes\r\n",
    "    estimated_boot_size = int(round(estimated_boot_size))\r\n",
    "\r\n",
    "    # Check if the boot size selected is appropriate\r\n",
    "    if selected_boot_size == estimated_boot_size:\r\n",
    "        # The selected boots are probably OK\r\n",
    "        return f\"Great choice! We think these boots will fit your avalanche dog well.\"\r\n",
    "\r\n",
    "    if selected_boot_size < estimated_boot_size:\r\n",
    "        # Selected boots might be too small \r\n",
    "        return \"The boots you have selected might be TOO SMALL for a dog as \"\\\r\n",
    "               f\"big as yours. We recommend a doggy boots size of {estimated_boot_size}.\"\r\n",
    "\r\n",
    "    if selected_boot_size > estimated_boot_size:\r\n",
    "        # Selected boots might be too big \r\n",
    "        return \"The boots you have selected might be TOO BIG for a dog as \"\\\r\n",
    "               f\"small as yours. We recommend a doggy boots size of {estimated_boot_size}.\"\r\n",
    "    \r\n",
    "\r\n",
    "# Practice using our new warning system\r\n",
    "check_size_of_boots(selected_harness_size=55, selected_boot_size=39)"
   ]
  }
 ],
 "metadata": {
  "kernelspec": {
   "display_name": "Python 3.9.5 64-bit",
   "name": "python395jvsc74a57bd0b62550ee9875c103988241e840a33346a8e052936219caf3064f7a25db6fe747"
  },
  "language_info": {
   "codemirror_mode": {
    "name": "ipython",
    "version": 3
   },
   "file_extension": ".py",
   "mimetype": "text/x-python",
   "name": "python",
   "nbconvert_exporter": "python",
   "pygments_lexer": "ipython3",
   "version": "3.9.5"
  },
  "orig_nbformat": 2
 },
 "nbformat": 4,
 "nbformat_minor": 2
}