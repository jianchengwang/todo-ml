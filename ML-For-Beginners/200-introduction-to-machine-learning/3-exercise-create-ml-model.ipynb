{
 "cells": [
  {
   "cell_type": "code",
   "execution_count": null,
   "metadata": {},
   "outputs": [],
   "source": [
    "import pandas\r\n",
    "# wget https://raw.githubusercontent.com/MicrosoftDocs/mslearn-introduction-to-machine-learning/main/graphing.py\r\n",
    "# wget https://raw.githubusercontent.com/MicrosoftDocs/mslearn-introduction-to-machine-learning/main/Data/doggy-boot-harness.csv\r\n",
    "# pip3 install statsmodels\r\n",
    "\r\n",
    "\r\n",
    "# Make a dictionary of data for boot sizes\r\n",
    "# and harness size in cm\r\n",
    "data = {\r\n",
    "    'boot_size' : [ 39, 38, 37, 39, 38, 35, 37, 36, 35, 40, \r\n",
    "                    40, 36, 38, 39, 42, 42, 36, 36, 35, 41, \r\n",
    "                    42, 38, 37, 35, 40, 36, 35, 39, 41, 37, \r\n",
    "                    35, 41, 39, 41, 42, 42, 36, 37, 37, 39,\r\n",
    "                    42, 35, 36, 41, 41, 41, 39, 39, 35, 39\r\n",
    " ],\r\n",
    "    'harness_size': [ 58, 58, 52, 58, 57, 52, 55, 53, 49, 54,\r\n",
    "                59, 56, 53, 58, 57, 58, 56, 51, 50, 59,\r\n",
    "                59, 59, 55, 50, 55, 52, 53, 54, 61, 56,\r\n",
    "                55, 60, 57, 56, 61, 58, 53, 57, 57, 55,\r\n",
    "                60, 51, 52, 56, 55, 57, 58, 57, 51, 59\r\n",
    "                ]\r\n",
    "}\r\n",
    "\r\n",
    "# Convert it into a table using pandas\r\n",
    "dataset = pandas.DataFrame(data)\r\n",
    "\r\n",
    "# Print the data\r\n",
    "# In normal python we would write\r\n",
    "# print(dataset)\r\n",
    "# but in Jupyter notebooks, if we simple write the name\r\n",
    "# of the variable and it is printed nicely \r\n",
    "dataset"
   ]
  },
  {
   "cell_type": "code",
   "execution_count": null,
   "metadata": {},
   "outputs": [],
   "source": [
    "# Load a library to do the hard work for us\r\n",
    "import statsmodels.formula.api as smf\r\n",
    "\r\n",
    "# First, we define our formula using a special syntax\r\n",
    "# This says that boot_size is explained by harness_size\r\n",
    "formula = \"boot_size ~ harness_size\"\r\n",
    "\r\n",
    "# Create the model, but don't train it yet\r\n",
    "model = smf.ols(formula = formula, data = dataset)\r\n",
    "\r\n",
    "# Note that we have created our model but it does not \r\n",
    "# have internal parameters set yet\r\n",
    "if not hasattr(model, 'params'):\r\n",
    "    print(\"Model selected but it does not have parameters set. We need to train it!\")"
   ]
  },
  {
   "cell_type": "code",
   "execution_count": null,
   "metadata": {},
   "outputs": [],
   "source": [
    "# Load some libraries to do the hard work for us\r\n",
    "import numpy as np\r\n",
    "import matplotlib.pyplot as plt \r\n",
    "\r\n",
    "# Train (fit) the model so that it creates a line that \r\n",
    "# fits our data. This method does the hard work for\r\n",
    "# us. We will look at how this method works in a later unit.\r\n",
    "fitted_model = model.fit()\r\n",
    "\r\n",
    "# Print information about our model now it has been fit\r\n",
    "print(\"The following model parameters have been found:\\n\" +\r\n",
    "        f\"Line slope: {fitted_model.params[1]}\\n\"+\r\n",
    "        f\"Line Intercept: {fitted_model.params[0]}\")\r\n",
    "\r\n",
    "plt.scatter(dataset['harness_size'], dataset['boot_size'])\r\n",
    "plt.xlabel = 'harness_size'\r\n",
    "plt.ylabel = 'boot_size'\r\n",
    "z = np.polyfit(dataset['harness_size'], dataset['boot_size'], 1)\r\n",
    "p = np.poly1d(z)\r\n",
    "plt.plot(dataset['harness_size'],p(dataset['harness_size']), color='magenta')\r\n",
    "plt.show()"
   ]
  },
  {
   "cell_type": "code",
   "execution_count": null,
   "metadata": {},
   "outputs": [],
   "source": [
    "# harness_size states the size of the harness we are interested in\r\n",
    "harness_size = { 'harness_size' : [52.5] }\r\n",
    "\r\n",
    "# Use the model to predict what size of boots the dog will fit\r\n",
    "approximate_boot_size = fitted_model.predict(harness_size)\r\n",
    "\r\n",
    "# Print the result\r\n",
    "print(\"Estimated approximate_boot_size:\")\r\n",
    "print(approximate_boot_size[0])"
   ]
  }
 ],
 "metadata": {
  "kernelspec": {
   "display_name": "Python 3.9.5 64-bit",
   "name": "python395jvsc74a57bd0b62550ee9875c103988241e840a33346a8e052936219caf3064f7a25db6fe747"
  },
  "language_info": {
   "codemirror_mode": {
    "name": "ipython",
    "version": 3
   },
   "file_extension": ".py",
   "mimetype": "text/x-python",
   "name": "python",
   "nbconvert_exporter": "python",
   "pygments_lexer": "ipython3",
   "version": "3.9.5"
  },
  "orig_nbformat": 2
 },
 "nbformat": 4,
 "nbformat_minor": 2
}