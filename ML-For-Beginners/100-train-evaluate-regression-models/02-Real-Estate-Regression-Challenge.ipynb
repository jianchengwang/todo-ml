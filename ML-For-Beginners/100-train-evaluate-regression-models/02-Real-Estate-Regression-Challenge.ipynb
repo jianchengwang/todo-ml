{
 "cells": [
  {
   "cell_type": "code",
   "execution_count": null,
   "metadata": {},
   "outputs": [],
   "source": [
    "# load libraries\r\n",
    "import pandas as pd \r\n",
    "\r\n",
    "# load data\r\n",
    "data = pd.read_csv('real_estate.csv')\r\n",
    "data.head()\r\n",
    "\r\n",
    "# numeric featyres\r\n",
    "numeric_features = ['transaction_date', 'house_age', 'transit_distance', 'local_convenience_stores', 'latitude', 'longitude']\r\n",
    "data[numeric_features + ['price_per_unit']].describe()"
   ]
  },
  {
   "cell_type": "code",
   "execution_count": null,
   "metadata": {},
   "outputs": [],
   "source": [
    "# Get the label column\r\n",
    "label = data[data.columns[-1]]\r\n",
    "\r\n",
    "# Create a figure for 2 subplots (2 rows, 1 column)\r\n",
    "fig, ax = plt.subplots(2, 1, figsize = (9,12))\r\n",
    "\r\n",
    "# Plot the histogram   \r\n",
    "ax[0].hist(label, bins=100)\r\n",
    "ax[0].set_ylabel('Frequency')\r\n",
    "\r\n",
    "# Add lines for the mean, median, and mode\r\n",
    "ax[0].axvline(label.mean(), color='magenta', linestyle='dashed', linewidth=2)\r\n",
    "ax[0].axvline(label.median(), color='cyan', linestyle='dashed', linewidth=2)\r\n",
    "\r\n",
    "# Plot the boxplot   \r\n",
    "ax[1].boxplot(label, vert=False)\r\n",
    "ax[1].set_xlabel('Label')\r\n",
    "\r\n",
    "# Add a title to the Figure\r\n",
    "fig.suptitle('Label Distribution')\r\n",
    "\r\n",
    "# Show the figure\r\n",
    "fig.show()"
   ]
  },
  {
   "cell_type": "code",
   "execution_count": null,
   "metadata": {},
   "outputs": [],
   "source": [
    "data = data[data['price_per_unit']<70]\r\n",
    "# Get the label column\r\n",
    "label = data[data.columns[-1]]\r\n",
    "\r\n",
    "# Create a figure for 2 subplots (2 rows, 1 column)\r\n",
    "fig, ax = plt.subplots(2, 1, figsize = (9,12))\r\n",
    "\r\n",
    "# Plot the histogram   \r\n",
    "ax[0].hist(label, bins=100)\r\n",
    "ax[0].set_ylabel('Frequency')\r\n",
    "\r\n",
    "# Add lines for the mean, median, and mode\r\n",
    "ax[0].axvline(label.mean(), color='magenta', linestyle='dashed', linewidth=2)\r\n",
    "ax[0].axvline(label.median(), color='cyan', linestyle='dashed', linewidth=2)\r\n",
    "\r\n",
    "# Plot the boxplot   \r\n",
    "ax[1].boxplot(label, vert=False)\r\n",
    "ax[1].set_xlabel('Label')\r\n",
    "\r\n",
    "# Add a title to the Figure\r\n",
    "fig.suptitle('Label Distribution')\r\n",
    "\r\n",
    "# Show the figure\r\n",
    "fig.show()"
   ]
  },
  {
   "cell_type": "code",
   "execution_count": null,
   "metadata": {},
   "outputs": [],
   "source": [
    "for col in data[data.columns[0:-1]]:\r\n",
    "    fig = plt.figure(figsize=(9, 6))\r\n",
    "    ax = fig.gca()\r\n",
    "    feature = data[col]\r\n",
    "    correlation = feature.corr(label)\r\n",
    "    plt.scatter(x=feature, y=label)\r\n",
    "    plt.xlabel(col)\r\n",
    "    plt.ylabel('Correlations')\r\n",
    "    ax.set_title('Label vs ' + col + '- correlation: ' + str(correlation))\r\n",
    "plt.show()"
   ]
  },
  {
   "cell_type": "code",
   "execution_count": null,
   "metadata": {},
   "outputs": [],
   "source": [
    "import matplotlib.pyplot as plt\r\n",
    "\r\n",
    "# Plot a histogram for each numeric feature\r\n",
    "for col in numeric_features:\r\n",
    "    fig = plt.figure(figsize=(9, 6))\r\n",
    "    ax = fig.gca()\r\n",
    "    feature = data[col]\r\n",
    "    feature.hist(bins=100, ax = ax)\r\n",
    "    ax.axvline(feature.mean(), color='magenta', linestyle='dashed', linewidth=2)\r\n",
    "    ax.axvline(feature.median(), color='cyan', linestyle='dashed', linewidth=2)\r\n",
    "    ax.set_title(col)\r\n",
    "plt.show()"
   ]
  },
  {
   "cell_type": "code",
   "execution_count": null,
   "metadata": {},
   "outputs": [],
   "source": [
    "# plot a bar plot for each categorical feature count\r\n",
    "categorical_features = ['transaction_date']\r\n",
    "for col in categorical_features:\r\n",
    "    counts = data[col].value_counts().sort_index()\r\n",
    "    fig = plt.figure(figsize=(9, 6))\r\n",
    "    ax = fig.gca()\r\n",
    "    counts.plot.bar(ax = ax, color='steelblue')\r\n",
    "    ax.set_title(col + ' counts')\r\n",
    "    ax.set_xlabel(col) \r\n",
    "    ax.set_ylabel(\"Frequency\")\r\n",
    "plt.show()"
   ]
  },
  {
   "cell_type": "code",
   "execution_count": null,
   "metadata": {},
   "outputs": [],
   "source": [
    "# plot a boxplot for the label by each categorical feature\r\n",
    "for col in data[['transaction_date', 'local_convenience_stores']]:\r\n",
    "    fig = plt.figure(figsize=(9, 6))\r\n",
    "    ax = fig.gca()\r\n",
    "    data.boxplot(column = 'price_per_unit', by = col, ax = ax)\r\n",
    "    ax.set_title('Label by ' + col)\r\n",
    "    ax.set_ylabel(\"Label Distribution by Categorical Variable\")\r\n",
    "plt.show()"
   ]
  },
  {
   "cell_type": "code",
   "execution_count": null,
   "metadata": {},
   "outputs": [],
   "source": [
    "from sklearn.model_selection import train_test_split\r\n",
    "\r\n",
    "X, y = data[['house_age', 'transit_distance', 'local_convenience_stores', 'latitude', 'longitude']].values, data['price_per_unit'].values\r\n",
    "print('Features:',X[:10], '\\nLabels:', y[:10], sep='\\n')\r\n",
    "\r\n",
    "# Split data 70%-30% into training set and test set\r\n",
    "X_train, X_test, y_train, y_test = train_test_split(X, y, test_size=0.30, random_state=0)\r\n",
    "\r\n",
    "print ('Training Set: %d rows\\nTest Set: %d rows' % (X_train.shape[0], X_test.shape[0]))"
   ]
  },
  {
   "cell_type": "code",
   "execution_count": null,
   "metadata": {},
   "outputs": [],
   "source": [
    "# Train the model\r\n",
    "from sklearn.compose import ColumnTransformer\r\n",
    "from sklearn.pipeline import Pipeline\r\n",
    "from sklearn.impute import SimpleImputer\r\n",
    "from sklearn.preprocessing import StandardScaler, OrdinalEncoder\r\n",
    "from sklearn.ensemble import RandomForestRegressor\r\n",
    "import numpy as np\r\n",
    "\r\n",
    "# Define preprocessing for numeric columns (scale them)\r\n",
    "numeric_features = [0,1,3,4]\r\n",
    "numeric_transformer = Pipeline(steps=[\r\n",
    "    ('scaler', StandardScaler())])\r\n",
    "\r\n",
    "# Combine preprocessing steps\r\n",
    "preprocessor = ColumnTransformer(\r\n",
    "    transformers=[\r\n",
    "        ('num', numeric_transformer, numeric_features),\r\n",
    "    ])\r\n",
    "\r\n",
    "# Create preprocessing and training pipeline\r\n",
    "pipeline = Pipeline(steps=[('preprocessor', preprocessor),\r\n",
    "                           ('regressor', RandomForestRegressor())])\r\n",
    "\r\n",
    "\r\n",
    "# fit the pipeline to train a linear regression model on the training set\r\n",
    "model = pipeline.fit(X_train, (y_train))\r\n",
    "print (model)"
   ]
  },
  {
   "cell_type": "code",
   "execution_count": null,
   "metadata": {},
   "outputs": [],
   "source": [
    "import matplotlib.pyplot as plt\r\n",
    "from sklearn.metrics import mean_squared_error, r2_score\r\n",
    "\r\n",
    "# Get predictions\r\n",
    "predictions = model.predict(X_test)\r\n",
    "\r\n",
    "# Display metrics\r\n",
    "mse = mean_squared_error(y_test, predictions)\r\n",
    "print(\"MSE:\", mse)\r\n",
    "rmse = np.sqrt(mse)\r\n",
    "print(\"RMSE:\", rmse)\r\n",
    "r2 = r2_score(y_test, predictions)\r\n",
    "print(\"R2:\", r2)\r\n",
    "\r\n",
    "# Plot predicted vs actual\r\n",
    "plt.scatter(y_test, predictions)\r\n",
    "plt.xlabel('Actual Labels')\r\n",
    "plt.ylabel('Predicted Labels')\r\n",
    "plt.title('Predictions vs Actuals')\r\n",
    "z = np.polyfit(y_test, predictions, 1)\r\n",
    "p = np.poly1d(z)\r\n",
    "plt.plot(y_test,p(y_test), color='magenta')\r\n",
    "plt.show()"
   ]
  },
  {
   "cell_type": "code",
   "execution_count": null,
   "metadata": {},
   "outputs": [],
   "source": [
    "import joblib\r\n",
    "\r\n",
    "# Save the model as a pickle file\r\n",
    "filename = './real_estate_model.pkl'\r\n",
    "joblib.dump(model, filename)\r\n",
    "\r\n",
    "# Load the model from the file\r\n",
    "loaded_model = joblib.load(filename)\r\n",
    "\r\n",
    "# An array of features for each transaction (don't include the transaction date)\r\n",
    "X_new = np.array([[16.2,289.3248,5,24.98203,121.54348],\r\n",
    "                  [13.6,4082.015,0,24.94155,121.5038]])\r\n",
    "\r\n",
    "# Use the model to predict unit price\r\n",
    "results = loaded_model.predict(X_new)\r\n",
    "print('Predictions:')\r\n",
    "for prediction in results:\r\n",
    "    print(round(prediction,2))"
   ]
  }
 ],
 "metadata": {
  "kernelspec": {
   "display_name": "Python 3.9.5 64-bit",
   "name": "python395jvsc74a57bd0b62550ee9875c103988241e840a33346a8e052936219caf3064f7a25db6fe747"
  },
  "language_info": {
   "codemirror_mode": {
    "name": "ipython",
    "version": 3
   },
   "file_extension": ".py",
   "mimetype": "text/x-python",
   "name": "python",
   "nbconvert_exporter": "python",
   "pygments_lexer": "ipython3",
   "version": "3.9.5"
  },
  "orig_nbformat": 2
 },
 "nbformat": 4,
 "nbformat_minor": 2
}