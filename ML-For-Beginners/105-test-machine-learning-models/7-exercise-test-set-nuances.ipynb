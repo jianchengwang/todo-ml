{
 "cells": [
  {
   "cell_type": "code",
   "execution_count": null,
   "source": [
    "import pandas\r\n",
    "#pip install statsmodels\r\n",
    "#wget https://raw.githubusercontent.com/MicrosoftDocs/mslearn-introduction-to-machine-learning/main/Data/dog-training.csv\r\n",
    "#wget https://raw.githubusercontent.com/MicrosoftDocs/mslearn-introduction-to-machine-learning/main/Data/dog-training-switzerland.csv\r\n",
    "#wget https://raw.githubusercontent.com/MicrosoftDocs/mslearn-introduction-to-machine-learning/main/graphing.py\r\n",
    "import graphing\r\n",
    "\r\n",
    "data = pandas.read_csv(\"dog-training.csv\", delimiter=\"\\t\")\r\n",
    "\r\n",
    "print(f\"Dataset shape: {data.shape}\")\r\n",
    "data.head()"
   ],
   "outputs": [],
   "metadata": {}
  },
  {
   "cell_type": "code",
   "execution_count": null,
   "source": [
    "# Obtain the label and feature from the original data\r\n",
    "dataset = data[['rescues_last_year','weight_last_year']]\r\n",
    "\r\n",
    "# Print the number of observations\r\n",
    "print(\"No. observations:\", dataset.shape[0])\r\n",
    "\r\n",
    "# Graph the distribution of variables for the unsplit dataset\r\n",
    "graphing.scatter_2D(dataset, 'rescues_last_year', 'weight_last_year')"
   ],
   "outputs": [],
   "metadata": {}
  },
  {
   "cell_type": "code",
   "execution_count": null,
   "source": [
    "from sklearn.model_selection import train_test_split\r\n",
    "\r\n",
    "# Split Dataset using different ratios 50:50, 60:40, 70:30, 80:20\r\n",
    "train_5050, test_5050 = train_test_split(dataset, test_size=0.5, random_state=2)\r\n",
    "train_6040, test_6040 = train_test_split(dataset, test_size=0.4, random_state=2)\r\n",
    "train_7030, test_7030 = train_test_split(dataset, test_size=0.3, random_state=2)\r\n",
    "train_8020, test_8020 = train_test_split(dataset, test_size=0.2, random_state=2)\r\n",
    "\r\n",
    "# Add a column to each set to identify if a datapoint belongs to \"train\" or \"test\"\r\n",
    "train_5050, test_5050 = train_5050.assign(Set=\"train\"), test_5050.assign(Set=\"test\")\r\n",
    "train_6040, test_6040 = train_6040.assign(Set=\"train\"), test_6040.assign(Set=\"test\")\r\n",
    "train_7030, test_7030 = train_7030.assign(Set=\"train\"), test_7030.assign(Set=\"test\")\r\n",
    "train_8020, test_8020 = train_8020.assign(Set=\"train\"), test_8020.assign(Set=\"test\")\r\n",
    "\r\n",
    "# Concatenate the \"train\" and \"test\" sets for each split so we can plot them on the same chart\r\n",
    "df_5050 = pandas.concat([train_5050, test_5050], axis=0)\r\n",
    "df_6040 = pandas.concat([train_6040, test_6040], axis=0)\r\n",
    "df_7030 = pandas.concat([train_7030, test_7030], axis=0)\r\n",
    "df_8020 = pandas.concat([train_8020, test_8020], axis=0)\r\n",
    "\r\n",
    "# Plot each distribution for comparison\r\n",
    "graphing.scatter_2D(df_5050, \"weight_last_year\", \"rescues_last_year\", title=\"50:50 split\", label_colour=\"Set\", show=True)\r\n",
    "graphing.scatter_2D(df_6040, \"weight_last_year\", \"rescues_last_year\", title=\"60:40 split\", label_colour=\"Set\", show=True)\r\n",
    "graphing.scatter_2D(df_7030, \"weight_last_year\", \"rescues_last_year\", title=\"70:30 split\", label_colour=\"Set\", show=True)\r\n",
    "graphing.scatter_2D(df_8020, \"weight_last_year\", \"rescues_last_year\", title=\"80:20 split\", label_colour=\"Set\")"
   ],
   "outputs": [],
   "metadata": {}
  },
  {
   "cell_type": "code",
   "execution_count": null,
   "source": [
    "# Add a column for each \"train\" set that identifies the split used\r\n",
    "train_8020 = train_8020.assign(Split=\"80:20\")\r\n",
    "train_7030 = train_7030.assign(Split=\"70:30\")\r\n",
    "train_6040 = train_6040.assign(Split=\"60:40\")\r\n",
    "train_5050 = train_5050.assign(Split=\"50:50\")\r\n",
    "\r\n",
    "# Concatenate training sets so we can plot them on the same chart\r\n",
    "split_df = pandas.concat([train_5050, train_6040, train_7030, train_8020], axis=0)\r\n",
    "\r\n",
    " # Plot a histogram of data distribution\r\n",
    "graphing.multiple_histogram(split_df, label_x=\"rescues_last_year\", label_group=\"Split\", title=\"Distribution of Training data\")"
   ],
   "outputs": [],
   "metadata": {}
  },
  {
   "cell_type": "code",
   "execution_count": null,
   "source": [
    "import statsmodels.formula.api as smf\r\n",
    "from sklearn.metrics import mean_squared_error as mse\r\n",
    "\r\n",
    "def train_and_test_model(name, train, test):\r\n",
    "    '''\r\n",
    "    This method creates a model, trains it on the provided data, and assesses \r\n",
    "    it against the test data\r\n",
    "    '''\r\n",
    "    # This formula says that rescues_last_year is explained by weight_last_year\r\n",
    "    formula = \"rescues_last_year ~ weight_last_year\"\r\n",
    "\r\n",
    "    # Create and train a linear regression model using the training data\r\n",
    "    model = smf.ols(formula = formula, data = train).fit()\r\n",
    "\r\n",
    "    # Now evaluate the model (by calculating the Mean Squared Error) using the \r\n",
    "    # corresponding \"test\" set for that split\r\n",
    "    correct_answers = test['rescues_last_year']\r\n",
    "    predictions = model.predict(test['weight_last_year'])\r\n",
    "    MSE = mse(correct_answers, predictions)\r\n",
    "    print(name + ' MSE = %f ' % MSE)\r\n",
    "\r\n",
    "    return model\r\n",
    "\r\n",
    "\r\n",
    "# Train a model and test it for each kind of split\r\n",
    "print(\"Mean Squared Error values (smaller is better)\")\r\n",
    "model_5050 = train_and_test_model(\"50:50\", train_5050, test_5050)\r\n",
    "model_6040 = train_and_test_model(\"60:40\", train_6040, test_6040)\r\n",
    "model_7030 = train_and_test_model(\"70:30\", train_7030, test_7030)\r\n",
    "model_8020 = train_and_test_model(\"80:20\", train_8020, test_8020)"
   ],
   "outputs": [],
   "metadata": {}
  },
  {
   "cell_type": "code",
   "execution_count": null,
   "source": [
    "import statsmodels.formula.api as smf\r\n",
    "from sklearn.metrics import mean_squared_error as mse\r\n",
    "\r\n",
    "# Load some dog statistics from our charity's European arm\r\n",
    "swiss_data = pandas.read_csv(\"dog-training-switzerland.csv\", delimiter=\"\\t\")\r\n",
    "\r\n",
    "# Show show information about the data\r\n",
    "print(f\"The Swiss dataset contains {swiss_data.shape[0]} samples\")\r\n",
    "graphing.scatter_2D(swiss_data, 'rescues_last_year', 'weight_last_year')"
   ],
   "outputs": [],
   "metadata": {}
  },
  {
   "cell_type": "code",
   "execution_count": null,
   "source": [
    "# Test our models against the swiss data\r\n",
    "features = swiss_data['weight_last_year']\r\n",
    "correct_answers = swiss_data['rescues_last_year']\r\n",
    "\r\n",
    "# We will now assess our models. Notice we're not training them again.\r\n",
    "# We are simply testing them against some new data \r\n",
    "\r\n",
    "# Assess the model trained on a 50:50 split\r\n",
    "predictions = model_5050.predict(features)\r\n",
    "MSE = mse(correct_answers, predictions)\r\n",
    "print('50:50 MSE = %f ' % MSE)\r\n",
    "\r\n",
    "# Assess the model trained on a 60:40 split\r\n",
    "predictions = model_6040.predict(features)\r\n",
    "MSE = mse(correct_answers, predictions)\r\n",
    "print('60:40 MSE = %f ' % MSE)\r\n",
    "\r\n",
    "# Assess the model trained on a 70:30 split\r\n",
    "predictions = model_7030.predict(features)\r\n",
    "MSE = mse(correct_answers, predictions)\r\n",
    "print('70:30 MSE = %f ' % MSE)\r\n",
    "\r\n",
    "# Assess the model trained on a 80:20 split\r\n",
    "predictions = model_8020.predict(features)\r\n",
    "MSE = mse(correct_answers, predictions)\r\n",
    "print('80:20 MSE = %f ' % MSE)"
   ],
   "outputs": [],
   "metadata": {}
  }
 ],
 "metadata": {
  "kernelspec": {
   "name": "python3",
   "display_name": "Python 3.8.3 32-bit"
  },
  "language_info": {
   "codemirror_mode": {
    "name": "ipython",
    "version": 3
   },
   "file_extension": ".py",
   "mimetype": "text/x-python",
   "name": "python",
   "nbconvert_exporter": "python",
   "pygments_lexer": "ipython3",
   "version": "3.8.3"
  },
  "orig_nbformat": 2,
  "interpreter": {
   "hash": "586dbcb5c5852d95733b4f6988d368a04938dc62b7d3e4b2ef6fb3176efba2da"
  }
 },
 "nbformat": 4,
 "nbformat_minor": 2
}