{
 "cells": [
  {
   "cell_type": "code",
   "execution_count": null,
   "metadata": {},
   "outputs": [],
   "source": [
    "import pandas\r\n",
    "#pip install statsmodels\r\n",
    "#wget https://raw.githubusercontent.com/MicrosoftDocs/mslearn-introduction-to-machine-learning/main/graphing.py\r\n",
    "#wget https://raw.githubusercontent.com/MicrosoftDocs/mslearn-introduction-to-machine-learning/main/Data/dog-training.csv\r\n",
    "#wget https://raw.githubusercontent.com/MicrosoftDocs/mslearn-introduction-to-machine-learning/main/Data/dog-training-switzerland.csv\r\n",
    "\r\n",
    "data = pandas.read_csv(\"dog-training.csv\", delimiter=\"\\t\")\r\n",
    "\r\n",
    "print(data.shape)\r\n",
    "print(data.head())"
   ]
  },
  {
   "cell_type": "code",
   "execution_count": null,
   "metadata": {},
   "outputs": [],
   "source": [
    "import graphing\r\n",
    "import statsmodels.formula.api as smf\r\n",
    "\r\n",
    "# First, we define our formula using a special syntax\r\n",
    "# This says that rescues_last_year is explained by weight_last_year\r\n",
    "formula = \"rescues_last_year ~ weight_last_year\"\r\n",
    "\r\n",
    "model = smf.ols(formula = formula, data = data).fit()\r\n",
    "\r\n",
    "graphing.scatter_2D(data, \"weight_last_year\", \"rescues_last_year\", trendline = lambda x: model.params[1] * x + model.params[0])\r\n"
   ]
  },
  {
   "cell_type": "code",
   "execution_count": null,
   "metadata": {},
   "outputs": [],
   "source": [
    "from sklearn.model_selection import train_test_split\r\n",
    "\r\n",
    "\r\n",
    "# Obtain the label and feature from the original data\r\n",
    "dataset = data[['rescues_last_year','weight_last_year']]\r\n",
    "\r\n",
    "# Split the dataset in an 70/30 train/test ratio. We also obtain the respective corresponding indices from the original dataset.\r\n",
    "train, test = train_test_split(dataset, train_size=0.7, random_state=21)\r\n",
    "\r\n",
    "print(\"Train\")\r\n",
    "print(train.head())\r\n",
    "print(train.shape)\r\n",
    "\r\n",
    "print(\"Test\")\r\n",
    "print(test.head())\r\n",
    "print(test.shape)"
   ]
  },
  {
   "cell_type": "code",
   "execution_count": null,
   "metadata": {},
   "outputs": [],
   "source": [
    "# You don't need to understand this code well\r\n",
    "# It's just used to create a scatter plot\r\n",
    "\r\n",
    "# concatenate training and test so they can be graphed\r\n",
    "plot_set = pandas.concat([train,test])\r\n",
    "plot_set[\"Dataset\"] = [\"train\"] * len(train) + [\"test\"] * len(test)\r\n",
    "\r\n",
    "# Create graph\r\n",
    "graphing.scatter_2D(plot_set, \"weight_last_year\", \"rescues_last_year\", \"Dataset\", trendline = lambda x: model.params[1] * x + model.params[0])"
   ]
  },
  {
   "cell_type": "code",
   "execution_count": null,
   "metadata": {},
   "outputs": [],
   "source": [
    "import statsmodels.formula.api as smf\r\n",
    "from sklearn.metrics import mean_squared_error as mse\r\n",
    "\r\n",
    "# First, we define our formula using a special syntax\r\n",
    "# This says that rescues_last_year is explained by weight_last_year\r\n",
    "formula = \"rescues_last_year ~ weight_last_year\"\r\n",
    "\r\n",
    "# Create and train the model\r\n",
    "model = smf.ols(formula = formula, data = train).fit()\r\n",
    "\r\n",
    "# Graph the result against the data\r\n",
    "graphing.scatter_2D(train, \"weight_last_year\", \"rescues_last_year\", trendline = lambda x: model.params[1] * x + model.params[0])"
   ]
  },
  {
   "cell_type": "code",
   "execution_count": null,
   "metadata": {},
   "outputs": [],
   "source": [
    "# We use the in-buit sklearn function to calculate the MSE\r\n",
    "correct_labels = train['rescues_last_year']\r\n",
    "predicted = model.predict(train['weight_last_year'])\r\n",
    "\r\n",
    "MSE = mse(correct_labels, predicted)\r\n",
    "print('MSE = %f ' % MSE)"
   ]
  },
  {
   "cell_type": "code",
   "execution_count": null,
   "metadata": {},
   "outputs": [],
   "source": [
    "graphing.scatter_2D(test, \"weight_last_year\", \"rescues_last_year\", trendline = lambda x: model.params[1] * x + model.params[0])"
   ]
  },
  {
   "cell_type": "code",
   "execution_count": null,
   "metadata": {},
   "outputs": [],
   "source": [
    "correct_labels = test['rescues_last_year']\r\n",
    "predicted = model.predict(test['weight_last_year'])\r\n",
    "\r\n",
    "MSE = mse(correct_labels, predicted)\r\n",
    "print('MSE = %f ' % MSE)"
   ]
  },
  {
   "cell_type": "code",
   "execution_count": null,
   "metadata": {},
   "outputs": [],
   "source": [
    "# Load an alternative dataset from the charity's European branch\r\n",
    "new_data = pandas.read_csv(\"dog-training-switzerland.csv\", delimiter=\"\\t\")\r\n",
    "\r\n",
    "print(new_data.shape)\r\n",
    "new_data.head()\r\n"
   ]
  },
  {
   "cell_type": "code",
   "execution_count": null,
   "metadata": {},
   "outputs": [],
   "source": [
    "# Plot the fitted model against this new dataset. \r\n",
    "\r\n",
    "graphing.scatter_2D(new_data, \"weight_last_year\", \"rescues_last_year\", trendline = lambda x: model.params[1] * x + model.params[0])"
   ]
  },
  {
   "cell_type": "code",
   "execution_count": null,
   "metadata": {},
   "outputs": [],
   "source": [
    "correct_labels = new_data['rescues_last_year']\r\n",
    "predicted = model.predict(new_data['weight_last_year'])\r\n",
    "\r\n",
    "MSE = mse(correct_labels, predicted)\r\n",
    "print('MSE = %f ' % MSE)"
   ]
  }
 ],
 "metadata": {
  "kernelspec": {
   "display_name": "Python 3.9.5 64-bit",
   "name": "python395jvsc74a57bd0b62550ee9875c103988241e840a33346a8e052936219caf3064f7a25db6fe747"
  },
  "language_info": {
   "codemirror_mode": {
    "name": "ipython",
    "version": 3
   },
   "file_extension": ".py",
   "mimetype": "text/x-python",
   "name": "python",
   "nbconvert_exporter": "python",
   "pygments_lexer": "ipython3",
   "version": "3.9.5"
  },
  "orig_nbformat": 2
 },
 "nbformat": 4,
 "nbformat_minor": 2
}