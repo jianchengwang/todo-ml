{
 "cells": [
  {
   "cell_type": "code",
   "execution_count": null,
   "metadata": {},
   "outputs": [],
   "source": [
    "import pandas\r\n",
    "#wget https://raw.githubusercontent.com/MicrosoftDocs/mslearn-introduction-to-machine-learning/main/graphing.py\r\n",
    "#wget https://raw.githubusercontent.com/MicrosoftDocs/mslearn-introduction-to-machine-learning/main/Data/dog-training.csv\r\n",
    "#wget https://raw.githubusercontent.com/MicrosoftDocs/mslearn-introduction-to-machine-learning/main/m1b_gradient_descent.py\r\n",
    "data = pandas.read_csv(\"dog-training.csv\", delimiter=\"\\t\")\r\n",
    "data.head()"
   ]
  },
  {
   "cell_type": "code",
   "execution_count": null,
   "metadata": {},
   "outputs": [],
   "source": [
    "from m1b_gradient_descent import gradient_descent\r\n",
    "import numpy\r\n",
    "import graphing\r\n",
    "\r\n",
    "# Train model using Gradient Descent\r\n",
    "# This method uses custom code that will print out progress as training advances.\r\n",
    "# You don't need to inspect how this works for these exercises, but if you are\r\n",
    "# curious, you can find it in out GitHub repository\r\n",
    "model = gradient_descent(data.month_old_when_trained, data.mean_rescues_per_year, learning_rate=5E-4, number_of_iterations=8000)\r\n"
   ]
  },
  {
   "cell_type": "code",
   "execution_count": null,
   "metadata": {},
   "outputs": [],
   "source": [
    "# Plot the data and trendline after training\r\n",
    "graphing.scatter_2D(data, \"month_old_when_trained\", \"mean_rescues_per_year\", trendline=model.predict)"
   ]
  },
  {
   "cell_type": "code",
   "execution_count": null,
   "metadata": {},
   "outputs": [],
   "source": [
    "# Add the normalized verions of \"age_when_trained\" to the dataset.\r\n",
    "# Notice that it \"centers\" the mean age around 0\r\n",
    "data[\"normalized_age_when_trained\"] = (data.month_old_when_trained - numpy.mean(data.month_old_when_trained)) / (numpy.std(data.month_old_when_trained))\r\n",
    "\r\n",
    "# Print a sample of the new dataset\r\n",
    "data[:5]"
   ]
  },
  {
   "cell_type": "code",
   "execution_count": null,
   "metadata": {},
   "outputs": [],
   "source": [
    "from plotly.subplots import make_subplots\r\n",
    "import plotly.graph_objects as go\r\n",
    "import plotly.express as px\r\n",
    "\r\n",
    "fig = px.box(data,y=[\"month_old_when_trained\", \"normalized_age_when_trained\"])\r\n",
    "fig.show()"
   ]
  },
  {
   "cell_type": "code",
   "execution_count": null,
   "metadata": {},
   "outputs": [],
   "source": [
    "# Let's retrain our model, this time using the normalised feature\r\n",
    "model_norm = gradient_descent(data.normalized_age_when_trained, data.mean_rescues_per_year, learning_rate=5E-4, number_of_iterations=8000)\r\n"
   ]
  },
  {
   "cell_type": "code",
   "execution_count": null,
   "metadata": {},
   "outputs": [],
   "source": [
    "# Plot the data and trendline again, after training with normalized feature\r\n",
    "graphing.scatter_2D(data, \"normalized_age_when_trained\", \"mean_rescues_per_year\", trendline=model_norm.predict)"
   ]
  },
  {
   "cell_type": "code",
   "execution_count": null,
   "metadata": {},
   "outputs": [],
   "source": [
    "cost1 = model.cost_history\r\n",
    "cost2 = model_norm.cost_history\r\n",
    "\r\n",
    "# Creates dataframes with the cost history for each model\r\n",
    "df1 = pandas.DataFrame({\"cost\": cost1, \"Model\":\"No feature scaling\"})\r\n",
    "df1[\"number of iterations\"] = df1.index + 1\r\n",
    "df2 = pandas.DataFrame({\"cost\": cost2, \"Model\":\"With feature scaling\"})\r\n",
    "df2[\"number of iterations\"] = df2.index + 1\r\n",
    "\r\n",
    "# Concatenate dataframes into a single one that we can use in our plot\r\n",
    "df = pandas.concat([df1, df2])\r\n",
    "\r\n",
    "# Plot cost history for both models\r\n",
    "fig = graphing.scatter_2D(df, label_x=\"number of iterations\", label_y=\"cost\", title=\"Training Cost vs Iterations\", label_colour=\"Model\")\r\n",
    "fig.update_traces(mode='lines')\r\n",
    "fig.show()"
   ]
  }
 ],
 "metadata": {
  "kernelspec": {
   "display_name": "Python 3.9.5 64-bit",
   "name": "python395jvsc74a57bd0b62550ee9875c103988241e840a33346a8e052936219caf3064f7a25db6fe747"
  },
  "language_info": {
   "name": "python",
   "version": ""
  },
  "orig_nbformat": 2
 },
 "nbformat": 4,
 "nbformat_minor": 2
}