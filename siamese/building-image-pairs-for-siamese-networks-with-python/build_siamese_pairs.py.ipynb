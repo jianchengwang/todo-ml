{
 "cells": [
  {
   "cell_type": "code",
   "execution_count": 1,
   "metadata": {},
   "outputs": [],
   "source": [
    "# import the necessary packages\n",
    "from tensorflow.keras.datasets import mnist\n",
    "from imutils import build_montages\n",
    "import numpy as np\n",
    "import cv2"
   ]
  },
  {
   "cell_type": "code",
   "execution_count": 18,
   "metadata": {},
   "outputs": [],
   "source": [
    "def make_pairs(images, labels):\n",
    "    # initialize two empty lists to hold the (image, image) pairs and\n",
    "    # labels to indicate if a pair is positive or negative\n",
    "    pairImages = []\n",
    "    pairLabels = []\n",
    "    numClasses = len(np.unique(labels))\n",
    "    print(numClasses)\n",
    "    idx = [np.where(labels == i)[0] for i in range(0, numClasses)]\n",
    "    for i in range(0, numClasses):\n",
    "        idxs = np.where(labels == i)[0]\n",
    "        print(\"{}: {} {}\".format(i, len(idxs), idxs))\n",
    "\n",
    "    # loop over all images\n",
    "    print(len(images))\n",
    "    for idxA in range(len(images)):\n",
    "        # grab the current image and label belonging to the current\n",
    "        # iteration\n",
    "        currentImage = images[idxA]\n",
    "        label = labels[idxA]\n",
    "        # randomly pick an image that belongs to the *same* class\n",
    "        # label\n",
    "        idxB = np.random.choice(idx[label])\n",
    "        posImage = images[idxB]\n",
    "        # prepare a positive pair and update the images and labels\n",
    "        # lists, respectively\n",
    "        pairImages.append([currentImage, posImage])\n",
    "        pairLabels.append([1])\n",
    "\n",
    "        negIdx = np.where(labels != label)[0]\n",
    "        negImage = images[np.random.choice(negIdx)]\n",
    "        # prepare a negative pair of images and update our lists\n",
    "        pairImages.append([currentImage, negImage])\n",
    "        pairLabels.append([0])\n",
    "\n",
    "    return (np.array(pairImages), np.array(pairLabels))"
   ]
  },
  {
   "cell_type": "code",
   "execution_count": null,
   "metadata": {},
   "outputs": [],
   "source": [
    "# load MNIST dataset and scale the pixel values to the range of [0, 1]\n",
    "print(\"[INFO] loading MNIST dataset...\")\n",
    "(trainX, trainY), (testX, testY) = mnist.load_data()\n",
    "# build the positive and negative image pairs\n",
    "print(\"[INFO] preparing positive and negative pairs...\")\n",
    "(pairTrain, labelTrain) = make_pairs(trainX, trainY)\n",
    "(pairTest, labelTest) = make_pairs(testX, testY)\n",
    "# initialize the list of images that will be used when building our\n",
    "# montage\n",
    "images = []"
   ]
  },
  {
   "cell_type": "code",
   "execution_count": 21,
   "metadata": {},
   "outputs": [],
   "source": [
    "# loop over a sample of our training pairs\n",
    "for i in np.random.choice(np.arange(0, len(pairTrain)), size=(49,)):\n",
    "\t# grab the current image pair and label\n",
    "\timageA = pairTrain[i][0]\n",
    "\timageB = pairTrain[i][1]\n",
    "\tlabel = labelTrain[i]\n",
    "\t# to make it easier to visualize the pairs and their positive or\n",
    "\t# negative annotations, we're going to \"pad\" the pair with four\n",
    "\t# pixels along the top, bottom, and right borders, respectively\n",
    "\toutput = np.zeros((36, 60), dtype=\"uint8\")\n",
    "\tpair = np.hstack([imageA, imageB])\n",
    "\toutput[4:32, 0:56] = pair\n",
    "\t# set the text label for the pair along with what color we are\n",
    "\t# going to draw the pair in (green for a \"positive\" pair and\n",
    "\t# red for a \"negative\" pair)\n",
    "\ttext = \"neg\" if label[0] == 0 else \"pos\"\n",
    "\tcolor = (0, 0, 255) if label[0] == 0 else (0, 255, 0)\n",
    "\t# create a 3-channel RGB image from the grayscale pair, resize\n",
    "\t# it from 60x36 to 96x51 (so we can better see it), and then\n",
    "\t# draw what type of pair it is on the image\n",
    "\tvis = cv2.merge([output] * 3)\n",
    "\tvis = cv2.resize(vis, (96, 51), interpolation=cv2.INTER_LINEAR)\n",
    "\tcv2.putText(vis, text, (2, 12), cv2.FONT_HERSHEY_SIMPLEX, 0.75,\n",
    "\t\tcolor, 2)\n",
    "\t# add the pair visualization to our list of output images\n",
    "\timages.append(vis)\n"
   ]
  },
  {
   "cell_type": "code",
   "execution_count": null,
   "metadata": {},
   "outputs": [],
   "source": [
    "\t# construct the montage for the images\n",
    "\tmontage = build_montages(images, (96, 51), (7, 7))[0]\n",
    "\t# show the output montage\n",
    "\tcv2.imshow(\"Siamese Image Pairs\", montage)\n",
    "\tcv2.waitKey(0)"
   ]
  },
  {
   "cell_type": "code",
   "execution_count": null,
   "metadata": {},
   "outputs": [],
   "source": []
  }
 ],
 "metadata": {
  "interpreter": {
   "hash": "12f6f1d89a66e85400f39057c6ed36fda2e921af989c2b4cb6f27681745f0116"
  },
  "kernelspec": {
   "display_name": "Python 3.7.9 64-bit",
   "name": "python3"
  },
  "language_info": {
   "codemirror_mode": {
    "name": "ipython",
    "version": 3
   },
   "file_extension": ".py",
   "mimetype": "text/x-python",
   "name": "python",
   "nbconvert_exporter": "python",
   "pygments_lexer": "ipython3",
   "version": "3.7.9"
  },
  "orig_nbformat": 4
 },
 "nbformat": 4,
 "nbformat_minor": 2
}
