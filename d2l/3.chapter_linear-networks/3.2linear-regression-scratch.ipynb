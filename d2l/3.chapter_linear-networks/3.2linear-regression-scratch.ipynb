{
 "cells": [
  {
   "cell_type": "code",
   "execution_count": null,
   "metadata": {},
   "outputs": [],
   "source": [
    "import random\r\n",
    "import torch\r\n",
    "from d2l import torch as d2l"
   ]
  },
  {
   "cell_type": "code",
   "execution_count": null,
   "metadata": {},
   "outputs": [],
   "source": [
    "def synthetic_data(w, b, num_examples):  #@save\r\n",
    "    \"\"\"生成 y = Xw + b + 噪声。\"\"\"\r\n",
    "    X = torch.normal(0, 1, (num_examples, len(w)))\r\n",
    "    y = torch.matmul(X, w) + b\r\n",
    "    y += torch.normal(0, 0.01, y.shape)\r\n",
    "    return X, y.reshape((-1, 1))\r\n",
    "\r\n",
    "true_w = torch.tensor([2, -3.4])\r\n",
    "true_b = 4.2\r\n",
    "features, labels = synthetic_data(true_w, true_b, 1000)\r\n",
    "print('features:', features[0],'\\nlabel:', labels[0])\r\n",
    "\r\n",
    "d2l.set_figsize()\r\n",
    "d2l.plt.scatter(features[:, (1)].detach().numpy(), labels.detach().numpy(), 1);"
   ]
  },
  {
   "cell_type": "code",
   "execution_count": null,
   "metadata": {},
   "outputs": [],
   "source": [
    "def data_iter(batch_size, features, labels):\r\n",
    "    num_examples = len(features)\r\n",
    "    indices = list(range(num_examples))\r\n",
    "    # 这些样本是随机读取的，没有特定的顺序\r\n",
    "    random.shuffle(indices)\r\n",
    "    for i in range(0, num_examples, batch_size):\r\n",
    "        batch_indices = torch.tensor(\r\n",
    "            indices[i: min(i + batch_size, num_examples)])\r\n",
    "        yield features[batch_indices], labels[batch_indices]\r\n",
    "\r\n",
    "batch_size = 10\r\n",
    "for X, y in data_iter(batch_size, features, labels):\r\n",
    "    print(X, '\\n', y)\r\n",
    "    break"
   ]
  },
  {
   "cell_type": "code",
   "execution_count": null,
   "metadata": {},
   "outputs": [],
   "source": [
    "w = torch.normal(0, 0.01, size=(2,1), requires_grad=True)\r\n",
    "b = torch.zeros(1, requires_grad=True)"
   ]
  },
  {
   "cell_type": "code",
   "execution_count": null,
   "metadata": {},
   "outputs": [],
   "source": [
    "def linreg(X, w, b):  #@save\r\n",
    "    \"\"\"线性回归模型。\"\"\"\r\n",
    "    return torch.matmul(X, w) + b"
   ]
  },
  {
   "cell_type": "code",
   "execution_count": null,
   "metadata": {},
   "outputs": [],
   "source": [
    "def squared_loss(y_hat, y):  #@save\r\n",
    "    \"\"\"均方损失。\"\"\"\r\n",
    "    return (y_hat - y.reshape(y_hat.shape)) ** 2 / 2"
   ]
  },
  {
   "cell_type": "code",
   "execution_count": null,
   "metadata": {},
   "outputs": [],
   "source": [
    "def sgd(params, lr, batch_size):  #@save\r\n",
    "    \"\"\"小批量随机梯度下降。\"\"\"\r\n",
    "    with torch.no_grad():\r\n",
    "        for param in params:\r\n",
    "            param -= lr * param.grad / batch_size\r\n",
    "            param.grad.zero_()"
   ]
  },
  {
   "cell_type": "code",
   "execution_count": null,
   "metadata": {},
   "outputs": [],
   "source": [
    "lr = 0.03\r\n",
    "num_epochs = 3\r\n",
    "net = linreg\r\n",
    "loss = squared_loss\r\n",
    "\r\n",
    "for epoch in range(num_epochs):\r\n",
    "    for X, y in data_iter(batch_size, features, labels):\r\n",
    "        l = loss(net(X, w, b), y)  # `X`和`y`的小批量损失\r\n",
    "        # 因为`l`形状是(`batch_size`, 1)，而不是一个标量。`l`中的所有元素被加到一起，\r\n",
    "        # 并以此计算关于[`w`, `b`]的梯度\r\n",
    "        l.sum().backward()\r\n",
    "        sgd([w, b], lr, batch_size)  # 使用参数的梯度更新参数\r\n",
    "    with torch.no_grad():\r\n",
    "        train_l = loss(net(features, w, b), labels)\r\n",
    "        print(f'epoch {epoch + 1}, loss {float(train_l.mean()):f}')\r\n",
    "\r\n",
    "print(f'w的估计误差: {true_w - w.reshape(true_w.shape)}')\r\n",
    "print(f'b的估计误差: {true_b - b}')"
   ]
  }
 ],
 "metadata": {
  "kernelspec": {
   "display_name": "Python 3.9.5 64-bit",
   "name": "python395jvsc74a57bd0b62550ee9875c103988241e840a33346a8e052936219caf3064f7a25db6fe747"
  },
  "language_info": {
   "codemirror_mode": {
    "name": "ipython",
    "version": 3
   },
   "file_extension": ".py",
   "mimetype": "text/x-python",
   "name": "python",
   "nbconvert_exporter": "python",
   "pygments_lexer": "ipython3",
   "version": "3.9.5"
  },
  "orig_nbformat": 3
 },
 "nbformat": 4,
 "nbformat_minor": 2
}