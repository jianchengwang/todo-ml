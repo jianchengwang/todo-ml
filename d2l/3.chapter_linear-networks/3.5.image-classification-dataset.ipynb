{
 "cells": [
  {
   "cell_type": "code",
   "execution_count": null,
   "metadata": {},
   "outputs": [],
   "source": [
    "import torch\r\n",
    "import torchvision\r\n",
    "from torch.utils import data\r\n",
    "from torchvision import transforms\r\n",
    "from d2l import torch as d2l\r\n",
    "\r\n",
    "d2l.use_svg_display()"
   ]
  },
  {
   "cell_type": "code",
   "execution_count": null,
   "metadata": {},
   "outputs": [],
   "source": [
    "# 通过ToTensor实例将图像数据从PIL类型变换成32位浮点数格式\r\n",
    "# 并除以255使得所有像素的数值均在0到1之间\r\n",
    "trans = transforms.ToTensor()\r\n",
    "mnist_train = torchvision.datasets.FashionMNIST(\r\n",
    "    root=\"../data\", train=True, transform=trans, download=True)\r\n",
    "mnist_test = torchvision.datasets.FashionMNIST(\r\n",
    "    root=\"../data\", train=False, transform=trans, download=True)\r\n",
    "len(mnist_train), len(mnist_test)"
   ]
  },
  {
   "cell_type": "code",
   "execution_count": null,
   "metadata": {},
   "outputs": [],
   "source": [
    "mnist_train[0][0].shape"
   ]
  },
  {
   "cell_type": "code",
   "execution_count": null,
   "metadata": {},
   "outputs": [],
   "source": [
    "def get_fashion_mnist_labels(labels):  #@save\r\n",
    "    \"\"\"返回Fashion-MNIST数据集的文本标签。\"\"\"\r\n",
    "    text_labels = ['t-shirt', 'trouser', 'pullover', 'dress', 'coat',\r\n",
    "                   'sandal', 'shirt', 'sneaker', 'bag', 'ankle boot']\r\n",
    "    return [text_labels[int(i)] for i in labels]"
   ]
  },
  {
   "cell_type": "code",
   "execution_count": null,
   "metadata": {},
   "outputs": [],
   "source": [
    "def show_images(imgs, num_rows, num_cols, titles=None, scale=1.5):  #@save\r\n",
    "    \"\"\"Plot a list of images.\"\"\"\r\n",
    "    figsize = (num_cols * scale, num_rows * scale)\r\n",
    "    _, axes = d2l.plt.subplots(num_rows, num_cols, figsize=figsize)\r\n",
    "    axes = axes.flatten()\r\n",
    "    for i, (ax, img) in enumerate(zip(axes, imgs)):\r\n",
    "        if torch.is_tensor(img):\r\n",
    "            # 图片张量\r\n",
    "            ax.imshow(img.numpy())\r\n",
    "        else:\r\n",
    "            # PIL图片\r\n",
    "            ax.imshow(img)\r\n",
    "        ax.axes.get_xaxis().set_visible(False)\r\n",
    "        ax.axes.get_yaxis().set_visible(False)\r\n",
    "        if titles:\r\n",
    "            ax.set_title(titles[i])\r\n",
    "    return axes"
   ]
  },
  {
   "cell_type": "code",
   "execution_count": null,
   "metadata": {},
   "outputs": [],
   "source": [
    "X, y = next(iter(data.DataLoader(mnist_train, batch_size=18)))\r\n",
    "show_images(X.reshape(18, 28, 28), 2, 9, titles=get_fashion_mnist_labels(y));"
   ]
  },
  {
   "cell_type": "code",
   "execution_count": null,
   "metadata": {},
   "outputs": [],
   "source": [
    "batch_size = 256\r\n",
    "\r\n",
    "def get_dataloader_workers():  #@save\r\n",
    "    \"\"\"使用4个进程来读取数据。\"\"\"\r\n",
    "    return 4\r\n",
    "\r\n",
    "train_iter = data.DataLoader(mnist_train, batch_size, shuffle=True,\r\n",
    "                             num_workers=get_dataloader_workers())"
   ]
  },
  {
   "cell_type": "code",
   "execution_count": null,
   "metadata": {},
   "outputs": [],
   "source": [
    "timer = d2l.Timer()\r\n",
    "for X, y in train_iter:\r\n",
    "    continue\r\n",
    "f'{timer.stop():.2f} sec'"
   ]
  },
  {
   "cell_type": "code",
   "execution_count": null,
   "metadata": {},
   "outputs": [],
   "source": [
    "def load_data_fashion_mnist(batch_size, resize=None):  #@save\r\n",
    "    \"\"\"下载Fashion-MNIST数据集，然后将其加载到内存中。\"\"\"\r\n",
    "    trans = [transforms.ToTensor()]\r\n",
    "    if resize:\r\n",
    "        trans.insert(0, transforms.Resize(resize))\r\n",
    "    trans = transforms.Compose(trans)\r\n",
    "    mnist_train = torchvision.datasets.FashionMNIST(\r\n",
    "        root=\"../data\", train=True, transform=trans, download=True)\r\n",
    "    mnist_test = torchvision.datasets.FashionMNIST(\r\n",
    "        root=\"../data\", train=False, transform=trans, download=True)\r\n",
    "    return (data.DataLoader(mnist_train, batch_size, shuffle=True,\r\n",
    "                            num_workers=get_dataloader_workers()),\r\n",
    "            data.DataLoader(mnist_test, batch_size, shuffle=False,\r\n",
    "                            num_workers=get_dataloader_workers()))"
   ]
  },
  {
   "cell_type": "code",
   "execution_count": null,
   "metadata": {},
   "outputs": [],
   "source": [
    "train_iter, test_iter = load_data_fashion_mnist(32, resize=64)\r\n",
    "for X, y in train_iter:\r\n",
    "    print(X.shape, X.dtype, y.shape, y.dtype)\r\n",
    "    break"
   ]
  }
 ],
 "metadata": {
  "kernelspec": {
   "display_name": "Python 3.9.5 64-bit",
   "name": "python395jvsc74a57bd0b62550ee9875c103988241e840a33346a8e052936219caf3064f7a25db6fe747"
  },
  "language_info": {
   "codemirror_mode": {
    "name": "ipython",
    "version": 3
   },
   "file_extension": ".py",
   "mimetype": "text/x-python",
   "name": "python",
   "nbconvert_exporter": "python",
   "pygments_lexer": "ipython3",
   "version": "3.9.5"
  },
  "orig_nbformat": 2
 },
 "nbformat": 4,
 "nbformat_minor": 2
}