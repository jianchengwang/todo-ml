{
 "cells": [
  {
   "cell_type": "code",
   "execution_count": 1,
   "metadata": {},
   "outputs": [],
   "source": [
    "import math\r\n",
    "import time\r\n",
    "import numpy as np\r\n",
    "import torch\r\n",
    "from d2l import torch as d2l"
   ]
  },
  {
   "cell_type": "code",
   "execution_count": 3,
   "metadata": {},
   "outputs": [],
   "source": [
    "class Timer:  #@save\r\n",
    "    \"\"\"记录多次运行时间。\"\"\"\r\n",
    "    def __init__(self):\r\n",
    "        self.times = []\r\n",
    "        self.start()\r\n",
    "\r\n",
    "    def start(self):\r\n",
    "        \"\"\"启动计时器。\"\"\"\r\n",
    "        self.tik = time.time()\r\n",
    "\r\n",
    "    def stop(self):\r\n",
    "        \"\"\"停止计时器并将时间记录在列表中。\"\"\"\r\n",
    "        self.times.append(time.time() - self.tik)\r\n",
    "        return self.times[-1]\r\n",
    "\r\n",
    "    def avg(self):\r\n",
    "        \"\"\"返回平均时间。\"\"\"\r\n",
    "        return sum(self.times) / len(self.times)\r\n",
    "\r\n",
    "    def sum(self):\r\n",
    "        \"\"\"返回时间总和。\"\"\"\r\n",
    "        return sum(self.times)\r\n",
    "\r\n",
    "    def cumsum(self):\r\n",
    "        \"\"\"返回累计时间。\"\"\"\r\n",
    "        return np.array(self.times).cumsum().tolist()"
   ]
  },
  {
   "cell_type": "code",
   "execution_count": 4,
   "metadata": {},
   "outputs": [
    {
     "data": {
      "text/plain": "'0.08799 sec'"
     },
     "execution_count": 4,
     "metadata": {},
     "output_type": "execute_result"
    }
   ],
   "source": [
    "n = 10000\r\n",
    "a = torch.ones(n)\r\n",
    "b = torch.ones(n)\r\n",
    "\r\n",
    "c = torch.zeros(n)\r\n",
    "timer = Timer()\r\n",
    "for i in range(n):\r\n",
    "    c[i] = a[i] + b[i]\r\n",
    "f'{timer.stop():.5f} sec'\r\n",
    "\r\n",
    "timer.start()\r\n",
    "d = a + b\r\n",
    "f'{timer.stop():.5f} sec'"
   ]
  },
  {
   "cell_type": "code",
   "execution_count": null,
   "metadata": {},
   "outputs": [],
   "source": [
    "def normal(x, mu, sigma):\r\n",
    "    p = 1 / math.sqrt(2 * math.pi * sigma**2)\r\n",
    "    return p * np.exp(-0.5 / sigma**2 * (x - mu)**2)\r\n",
    "\r\n",
    "# 再次使用numpy进行可视化\r\n",
    "x = np.arange(-7, 7, 0.01)\r\n",
    "\r\n",
    "# 均值和标准差对\r\n",
    "params = [(0, 1), (0, 2), (3, 1)]\r\n",
    "d2l.plot(x, [normal(x, mu, sigma) for mu, sigma in params], xlabel='x',\r\n",
    "         ylabel='p(x)', figsize=(4.5, 2.5),\r\n",
    "         legend=[f'mean {mu}, std {sigma}' for mu, sigma in params]"
   ]
  }
 ],
 "metadata": {
  "kernelspec": {
   "display_name": "Python 3.9.5 64-bit",
   "name": "python395jvsc74a57bd0b62550ee9875c103988241e840a33346a8e052936219caf3064f7a25db6fe747"
  },
  "language_info": {
   "codemirror_mode": {
    "name": "ipython",
    "version": 3
   },
   "file_extension": ".py",
   "mimetype": "text/x-python",
   "name": "python",
   "nbconvert_exporter": "python",
   "pygments_lexer": "ipython3",
   "version": "3.9.5"
  },
  "orig_nbformat": 2
 },
 "nbformat": 4,
 "nbformat_minor": 2
}