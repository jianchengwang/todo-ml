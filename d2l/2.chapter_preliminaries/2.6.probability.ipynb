{
 "cells": [
  {
   "cell_type": "code",
   "execution_count": null,
   "metadata": {},
   "outputs": [],
   "source": [
    "import torch\r\n",
    "from torch.distributions import multinomial\r\n",
    "from d2l import torch as d2l"
   ]
  },
  {
   "cell_type": "code",
   "execution_count": null,
   "metadata": {},
   "outputs": [],
   "source": [
    "fair_probs = torch.ones([6]) / 6\r\n",
    "multinomial.Multinomial(1, fair_probs).sample()\r\n",
    "multinomial.Multinomial(10, fair_probs).sample()\r\n",
    "# 将结果存储为32位浮点数以进行除法\r\n",
    "counts = multinomial.Multinomial(1000, fair_probs).sample()\r\n",
    "counts / 1000  # 相对频率作为估计值\r\n",
    "\r\n",
    "counts = multinomial.Multinomial(10, fair_probs).sample((500,))\r\n",
    "cum_counts = counts.cumsum(dim=0)\r\n",
    "estimates = cum_counts / cum_counts.sum(dim=1, keepdims=True)\r\n",
    "\r\n",
    "d2l.set_figsize((6, 4.5))\r\n",
    "for i in range(6):\r\n",
    "    d2l.plt.plot(estimates[:, i].numpy(),\r\n",
    "                 label=(\"P(die=\" + str(i + 1) + \")\"))\r\n",
    "d2l.plt.axhline(y=0.167, color='black', linestyle='dashed')\r\n",
    "d2l.plt.gca().set_xlabel('实验次数')\r\n",
    "d2l.plt.gca().set_ylabel('估算概率')\r\n",
    "d2l.plt.legend();"
   ]
  }
 ],
 "metadata": {
  "kernelspec": {
   "display_name": "Python 3.9.5 64-bit",
   "name": "python395jvsc74a57bd0b62550ee9875c103988241e840a33346a8e052936219caf3064f7a25db6fe747"
  },
  "language_info": {
   "name": "python",
   "version": ""
  },
  "orig_nbformat": 2
 },
 "nbformat": 4,
 "nbformat_minor": 2
}