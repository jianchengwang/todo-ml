{
 "cells": [
  {
   "cell_type": "code",
   "execution_count": 5,
   "metadata": {},
   "outputs": [
    {
     "data": {
      "text/plain": "tensor([1., 1., 1., 1.])"
     },
     "execution_count": 5,
     "metadata": {},
     "output_type": "execute_result"
    }
   ],
   "source": [
    "import torch\r\n",
    "x = torch.arange(4.0)\r\n",
    "x\r\n",
    "x.requires_grad_(True)  # 等价于 `x = torch.arange(4.0, requires_grad=True)`\r\n",
    "x.grad  # 默认值是None\r\n",
    "y = 2 * torch.dot(x, x)\r\n",
    "y\r\n",
    "y.backward()\r\n",
    "x.grad\r\n",
    "x.grad == 4 * x\r\n",
    "# 在默认情况下，PyTorch会累积梯度，我们需要清除之前的值\r\n",
    "x.grad.zero_()\r\n",
    "y = x.sum()\r\n",
    "y.backward()\r\n",
    "x.grad"
   ]
  },
  {
   "cell_type": "code",
   "execution_count": 6,
   "metadata": {},
   "outputs": [
    {
     "data": {
      "text/plain": "tensor([0., 2., 4., 6.])"
     },
     "execution_count": 6,
     "metadata": {},
     "output_type": "execute_result"
    }
   ],
   "source": [
    "# 对非标量调用`backward`需要传入一个`gradient`参数，该参数指定微分函数关于`self`的梯度。在我们的例子中，我们只想求偏导数的和，所以传递一个1的梯度是合适的\r\n",
    "x.grad.zero_()\r\n",
    "y = x * x\r\n",
    "# 等价于y.backward(torch.ones(len(x)))\r\n",
    "y.sum().backward()\r\n",
    "x.grad"
   ]
  },
  {
   "cell_type": "code",
   "execution_count": 8,
   "metadata": {},
   "outputs": [
    {
     "data": {
      "text/plain": "tensor([True, True, True, True])"
     },
     "execution_count": 8,
     "metadata": {},
     "output_type": "execute_result"
    }
   ],
   "source": [
    "x.grad.zero_()\r\n",
    "y = x * x\r\n",
    "u = y.detach()\r\n",
    "z = u * x\r\n",
    "\r\n",
    "z.sum().backward()\r\n",
    "x.grad == u\r\n",
    "\r\n",
    "x.grad.zero_()\r\n",
    "y.sum().backward()\r\n",
    "x.grad == 2 * x"
   ]
  },
  {
   "cell_type": "code",
   "execution_count": 19,
   "metadata": {},
   "outputs": [
    {
     "data": {
      "text/plain": "tensor(True)"
     },
     "execution_count": 19,
     "metadata": {},
     "output_type": "execute_result"
    }
   ],
   "source": [
    "def f(a):\r\n",
    "    b = a * 2\r\n",
    "    while b.norm() < 1000:\r\n",
    "        b = b * 2\r\n",
    "    if b.sum() > 0:\r\n",
    "        c = b\r\n",
    "    else:\r\n",
    "        c = 100 * b\r\n",
    "    return c\r\n",
    "\r\n",
    "a = torch.randn(size=(), requires_grad=True)\r\n",
    "d = f(a)\r\n",
    "d.backward()\r\n",
    "\r\n",
    "a.grad == d / a"
   ]
  }
 ],
 "metadata": {
  "kernelspec": {
   "display_name": "Python 3.9.5 64-bit",
   "name": "python395jvsc74a57bd0b62550ee9875c103988241e840a33346a8e052936219caf3064f7a25db6fe747"
  },
  "language_info": {
   "codemirror_mode": {
    "name": "ipython",
    "version": 3
   },
   "file_extension": ".py",
   "mimetype": "text/x-python",
   "name": "python",
   "nbconvert_exporter": "python",
   "pygments_lexer": "ipython3",
   "version": "3.9.5"
  },
  "orig_nbformat": 2
 },
 "nbformat": 4,
 "nbformat_minor": 2
}