{
 "cells": [
  {
   "cell_type": "code",
   "execution_count": null,
   "metadata": {},
   "outputs": [],
   "source": [
    "import torch"
   ]
  },
  {
   "cell_type": "code",
   "execution_count": null,
   "metadata": {},
   "outputs": [],
   "source": [
    "x = torch.arange(12)\r\n",
    "x\r\n",
    "\r\n",
    "x.shape\r\n",
    "x.numel()\r\n",
    "\r\n",
    "X = x.reshape(3, 4)\r\n",
    "X\r\n",
    "X = x.reshape(3, -1)\r\n",
    "X\r\n",
    "\r\n",
    "torch.zeros((2, 3, 4))\r\n",
    "torch.ones((2, 3, 4))\r\n",
    "torch.randn(3, 4)"
   ]
  },
  {
   "cell_type": "code",
   "execution_count": null,
   "metadata": {},
   "outputs": [],
   "source": [
    "x = torch.tensor([1.0, 2, 4, 8])\r\n",
    "y = torch.tensor([2, 2, 2, 2])\r\n",
    "x + y, x - y, x * y, x / y, x ** y  # **运算符是求幂运算\r\n",
    "\r\n",
    "torch.exp(x)\r\n",
    "\r\n",
    "X = torch.arange(12, dtype=torch.float32).reshape((3,4))\r\n",
    "Y = torch.tensor([[2.0, 1, 4, 3], [1, 2, 3, 4], [4, 3, 2, 1]])\r\n",
    "torch.cat((X, Y), dim=0), torch.cat((X, Y), dim=1)\r\n",
    "\r\n",
    "X == Y\r\n",
    "\r\n",
    "X.sum()"
   ]
  },
  {
   "cell_type": "code",
   "execution_count": null,
   "metadata": {},
   "outputs": [],
   "source": [
    "a = torch.arange(3).reshape((3, 1))\r\n",
    "b = torch.arange(2).reshape((1, 2))\r\n",
    "a, b\r\n",
    "a + b"
   ]
  },
  {
   "cell_type": "code",
   "execution_count": null,
   "metadata": {},
   "outputs": [],
   "source": [
    "X[-1], X[1:3]\r\n",
    "\r\n",
    "X[1, 2] = 9\r\n",
    "X\r\n",
    "\r\n",
    "X[0:2, :] = 12\r\n",
    "X"
   ]
  },
  {
   "cell_type": "code",
   "execution_count": null,
   "metadata": {},
   "outputs": [],
   "source": [
    "before = id(Y)\r\n",
    "Y = Y + X\r\n",
    "id(Y) == before\r\n",
    "\r\n",
    "Z = torch.zeros_like(Y)\r\n",
    "print('id(Z):', id(Z))\r\n",
    "Z[:] = X + Y\r\n",
    "print('id(Z):', id(Z))\r\n",
    "\r\n",
    "before = id(X)\r\n",
    "X += Y\r\n",
    "id(X) == before"
   ]
  },
  {
   "cell_type": "code",
   "execution_count": null,
   "metadata": {},
   "outputs": [],
   "source": [
    "A = X.numpy()\r\n",
    "B = torch.tensor(A)\r\n",
    "type(A), type(B)\r\n",
    "\r\n",
    "a = torch.tensor([3.5])\r\n",
    "a, a.item(), float(a), int(a)"
   ]
  }
 ],
 "metadata": {
  "kernelspec": {
   "display_name": "Python 3.9.5 64-bit",
   "name": "python395jvsc74a57bd0b62550ee9875c103988241e840a33346a8e052936219caf3064f7a25db6fe747"
  },
  "language_info": {
   "codemirror_mode": {
    "name": "ipython",
    "version": 3
   },
   "file_extension": ".py",
   "mimetype": "text/x-python",
   "name": "python",
   "nbconvert_exporter": "python",
   "pygments_lexer": "ipython3",
   "version": "3.9.5"
  },
  "orig_nbformat": 2
 },
 "nbformat": 4,
 "nbformat_minor": 2
}