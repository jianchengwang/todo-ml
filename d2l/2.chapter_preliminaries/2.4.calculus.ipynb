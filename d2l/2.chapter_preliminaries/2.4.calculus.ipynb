{
 "cells": [
  {
   "cell_type": "code",
   "execution_count": null,
   "metadata": {},
   "outputs": [],
   "source": [
    "import numpy as np\r\n",
    "from IPython import display\r\n",
    "from d2l import torch as d2l\r\n",
    "\r\n",
    "def f(x):\r\n",
    "    return 3 * x ** 2 - 4 * x\r\n",
    "\r\n",
    "def numerical_lim(f, x, h):\r\n",
    "    return (f(x + h) - f(x)) / h\r\n",
    "\r\n",
    "h = 0.1\r\n",
    "for i in range(5):\r\n",
    "    print(f'h={h:.5f}, numerical limit={numerical_lim(f, 1, h):.5f}')\r\n",
    "    h *= 0.1"
   ]
  },
  {
   "cell_type": "code",
   "execution_count": 5,
   "metadata": {},
   "outputs": [],
   "source": [
    "def use_svg_display():  #@save\r\n",
    "    \"\"\"使用svg格式在Jupyter中显示绘图。\"\"\"\r\n",
    "    display.set_matplotlib_formats('svg')\r\n",
    "\r\n",
    "def set_figsize(figsize=(3.5, 2.5)):  #@save\r\n",
    "    \"\"\"设置matplotlib的图表大小。\"\"\"\r\n",
    "    use_svg_display()\r\n",
    "    d2l.plt.rcParams['figure.figsize'] = figsize\r\n",
    "\r\n",
    "#@save\r\n",
    "def set_axes(axes, xlabel, ylabel, xlim, ylim, xscale, yscale, legend):\r\n",
    "    \"\"\"设置matplotlib的轴。\"\"\"\r\n",
    "    axes.set_xlabel(xlabel)\r\n",
    "    axes.set_ylabel(ylabel)\r\n",
    "    axes.set_xscale(xscale)\r\n",
    "    axes.set_yscale(yscale)\r\n",
    "    axes.set_xlim(xlim)\r\n",
    "    axes.set_ylim(ylim)\r\n",
    "    if legend:\r\n",
    "        axes.legend(legend)\r\n",
    "    axes.grid()\r\n",
    "\r\n",
    "#@save\r\n",
    "def plot(X, Y=None, xlabel=None, ylabel=None, legend=None, xlim=None,\r\n",
    "         ylim=None, xscale='linear', yscale='linear',\r\n",
    "         fmts=('-', 'm--', 'g-.', 'r:'), figsize=(3.5, 2.5), axes=None):\r\n",
    "    \"\"\"绘制数据点。\"\"\"\r\n",
    "    if legend is None:\r\n",
    "        legend = []\r\n",
    "\r\n",
    "    set_figsize(figsize)\r\n",
    "    axes = axes if axes else d2l.plt.gca()\r\n",
    "\r\n",
    "    # 如果 `X` 有一个轴，输出True\r\n",
    "    def has_one_axis(X):\r\n",
    "        return (hasattr(X, \"ndim\") and X.ndim == 1 or isinstance(X, list)\r\n",
    "                and not hasattr(X[0], \"__len__\"))\r\n",
    "\r\n",
    "    if has_one_axis(X):\r\n",
    "        X = [X]\r\n",
    "    if Y is None:\r\n",
    "        X, Y = [[]] * len(X), X\r\n",
    "    elif has_one_axis(Y):\r\n",
    "        Y = [Y]\r\n",
    "    if len(X) != len(Y):\r\n",
    "        X = X * len(Y)\r\n",
    "    axes.cla()\r\n",
    "    for x, y, fmt in zip(X, Y, fmts):\r\n",
    "        if len(x):\r\n",
    "            axes.plot(x, y, fmt)\r\n",
    "        else:\r\n",
    "            axes.plot(y, fmt)\r\n",
    "    set_axes(axes, xlabel, ylabel, xlim, ylim, xscale, yscale, legend)"
   ]
  },
  {
   "cell_type": "code",
   "execution_count": null,
   "metadata": {},
   "outputs": [],
   "source": [
    "x = np.arange(0, 3, 0.1)\r\n",
    "plot(x, [f(x), 2 * x - 3], 'x', 'f(x)', legend=['f(x)', 'Tangent line (x=1)'])"
   ]
  }
 ],
 "metadata": {
  "kernelspec": {
   "display_name": "Python 3.9.5 64-bit",
   "name": "python395jvsc74a57bd0b62550ee9875c103988241e840a33346a8e052936219caf3064f7a25db6fe747"
  },
  "language_info": {
   "codemirror_mode": {
    "name": "ipython",
    "version": 3
   },
   "file_extension": ".py",
   "mimetype": "text/x-python",
   "name": "python",
   "nbconvert_exporter": "python",
   "pygments_lexer": "ipython3",
   "version": "3.9.5"
  },
  "orig_nbformat": 2
 },
 "nbformat": 4,
 "nbformat_minor": 2
}