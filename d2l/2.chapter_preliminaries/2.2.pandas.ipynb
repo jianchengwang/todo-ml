{
 "cells": [
  {
   "cell_type": "code",
   "execution_count": null,
   "metadata": {},
   "outputs": [],
   "source": [
    "import os\r\n",
    "\r\n",
    "os.makedirs(os.path.join('..', 'data'), exist_ok=True)\r\n",
    "data_file = os.path.join('..', 'data', 'house_tiny.csv')\r\n",
    "with open(data_file, 'w') as f:\r\n",
    "    f.write('NumRooms,Alley,Price\\n')  # 列名\r\n",
    "    f.write('NA,Pave,127500\\n')  # 每行表示一个数据样本\r\n",
    "    f.write('2,NA,106000\\n')\r\n",
    "    f.write('4,NA,178100\\n')\r\n",
    "    f.write('NA,NA,140000\\n')\r\n",
    "\r\n",
    "# 如果没有安装pandas，只需取消对以下行的注释：\r\n",
    "# !pip install pandas\r\n",
    "import pandas as pd\r\n",
    "data = pd.read_csv(data_file)\r\n",
    "print(data)"
   ]
  },
  {
   "cell_type": "code",
   "execution_count": null,
   "metadata": {},
   "outputs": [],
   "source": [
    "inputs, outputs = data.iloc[:, 0:2], data.iloc[:, 2]\r\n",
    "inputs = inputs.fillna(inputs.mean())\r\n",
    "print(inputs)\r\n",
    "\r\n",
    "inputs = pd.get_dummies(inputs, dummy_na=True)\r\n",
    "print(inputs)"
   ]
  },
  {
   "cell_type": "code",
   "execution_count": null,
   "metadata": {},
   "outputs": [],
   "source": [
    "import torch\r\n",
    "\r\n",
    "X, y = torch.tensor(inputs.values), torch.tensor(outputs.values)\r\n",
    "X, y"
   ]
  },
  {
   "cell_type": "code",
   "execution_count": null,
   "metadata": {},
   "outputs": [],
   "source": []
  }
 ],
 "metadata": {
  "kernelspec": {
   "display_name": "Python 3.9.5 64-bit",
   "name": "python395jvsc74a57bd0b62550ee9875c103988241e840a33346a8e052936219caf3064f7a25db6fe747"
  },
  "language_info": {
   "codemirror_mode": {
    "name": "ipython",
    "version": 3
   },
   "file_extension": ".py",
   "mimetype": "text/x-python",
   "name": "python",
   "nbconvert_exporter": "python",
   "pygments_lexer": "ipython3",
   "version": "3.9.5"
  },
  "orig_nbformat": 2
 },
 "nbformat": 4,
 "nbformat_minor": 2
}